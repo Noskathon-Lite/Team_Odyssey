{
  "nbformat": 4,
  "nbformat_minor": 0,
  "metadata": {
    "colab": {
      "provenance": []
    },
    "kernelspec": {
      "name": "python3",
      "display_name": "Python 3"
    },
    "language_info": {
      "name": "python"
    }
  },
  "cells": [
    {
      "cell_type": "code",
      "source": [
        "import pandas as pd\n",
        "import numpy as np\n",
        "import matplotlib.pyplot as plt\n",
        "import matplotlib.mlab as mlab\n",
        "\n",
        "import tensorflow as tf\n",
        "# 'flatten' has moved to tf.keras.layers in TensorFlow 2.0\n",
        "from tensorflow.keras.layers import Flatten\n",
        "\n",
        "# Import MaxPooling2D from tensorflow.keras.layers instead of keras.layers.pooling\n",
        "from tensorflow.keras.layers import MaxPooling2D\n",
        "from tensorflow.keras.models import Sequential, Model\n",
        "from tensorflow.keras.callbacks import EarlyStopping, Callback\n",
        "from tensorflow.keras.layers import Dense, Dropout, Activation, Flatten, Lambda, ELU,GlobalAveragePooling2D\n",
        "# Import regularizers from tf.keras.regularizers\n",
        "from tensorflow.keras import regularizers\n",
        "from tensorflow.keras.layers import Convolution2D, Cropping2D, Conv2D\n",
        "# Import MaxPooling2D from tensorflow.keras.layers instead of keras.layers.pooling\n",
        "from tensorflow.keras.layers import MaxPooling2D\n",
        "from tensorflow.keras.optimizers import Adam # Use Adam instead of adam\n",
        "from sklearn.utils import shuffle\n",
        "from tensorflow.keras.utils import to_categorical # Use to_categorical instead of np_utils\n",
        "\n",
        "\n",
        "import time, cv2, glob"
      ],
      "metadata": {
        "id": "bPYJsyFGBz2V"
      },
      "execution_count": 48,
      "outputs": []
    },
    {
      "cell_type": "code",
      "source": [
        "global inputShape,size"
      ],
      "metadata": {
        "id": "2jnbeZv_Cd28"
      },
      "execution_count": 49,
      "outputs": []
    },
    {
      "cell_type": "code",
      "source": [
        "def kerasModel4():\n",
        "        model = Sequential()\n",
        "        model.add(Conv2D(16, (8, 8), strides=(4, 4), padding='valid', input_shape=(size,size,1)))\n",
        "        model.add(Activation('relu'))\n",
        "        model.add(Conv2D(32, (5, 5), padding=\"same\"))\n",
        "        model.add(Activation('relu'))\n",
        "        model.add(GlobalAveragePooling2D())\n",
        "        # model.add(Dropout(.2))\n",
        "        # model.add(Activation('relu'))\n",
        "        # model.add(Dense(1024))\n",
        "        # model.add(Dropout(.5))\n",
        "        model.add(Dense(512))\n",
        "        model.add(Dropout(.1))\n",
        "        model.add(Activation('relu'))\n",
        "        # model.add(Dense(256))\n",
        "        # model.add(Dropout(.5))\n",
        "        # model.add(Activation('relu'))\n",
        "        model.add(Dense(2))\n",
        "        model.add(Activation('softmax'))\n",
        "        return model\n",
        "\n",
        "size=100"
      ],
      "metadata": {
        "id": "OvWEIo0rCfWS"
      },
      "execution_count": 50,
      "outputs": []
    },
    {
      "cell_type": "code",
      "source": [
        "# Paths to datasets (update these paths)\n",
        "from google.colab import drive\n",
        "drive.mount('/content/drive')  # Mount Google Drive if datasets are stored there"
      ],
      "metadata": {
        "colab": {
          "base_uri": "https://localhost:8080/"
        },
        "id": "QHoe_-u5CnKK",
        "outputId": "0bdebe3f-f19b-4178-d556-6e8f6e3c1f96"
      },
      "execution_count": 51,
      "outputs": [
        {
          "output_type": "stream",
          "name": "stdout",
          "text": [
            "Drive already mounted at /content/drive; to attempt to forcibly remount, call drive.mount(\"/content/drive\", force_remount=True).\n"
          ]
        }
      ]
    },
    {
      "cell_type": "code",
      "source": [
        " ## load Training data : pothole\n",
        "potholeTrainImages = glob.glob(\"/content/drive/MyDrive/Colab Notebooks/withpotholes/*.jpg\")\n",
        "potholeTrainImages.extend(glob.glob(\"/content/drive/MyDrive/Colab Notebooks/withpotholes/*jpg\"))\n",
        "potholeTrainImages.extend(glob.glob(\"/content/drive/MyDrive/Colab Notebooks/withpotholes/*jpg\"))\n"
      ],
      "metadata": {
        "id": "4kqT_bfhCso2"
      },
      "execution_count": 52,
      "outputs": []
    },
    {
      "cell_type": "code",
      "source": [
        "train1 = [cv2.imread(img,0) for img in potholeTrainImages]\n",
        "for i in range(0,len(train1)):\n",
        "    train1[i] = cv2.resize(train1[i],(size,size))\n",
        "temp1 = np.asarray(train1)\n"
      ],
      "metadata": {
        "id": "kFAke355Dbhg"
      },
      "execution_count": 53,
      "outputs": []
    },
    {
      "cell_type": "code",
      "source": [
        "#  ## load Training data : non-pothole\n",
        "nonPotholeTrainImages = glob.glob(\"/content/drive/MyDrive/Colab Notebooks/withpotholes/*.jpg\")\n",
        "nonPotholeTrainImages.extend(glob.glob(\"/content/drive/MyDrive/Colab Notebooks/withpotholes/*.jpg\"))\n",
        "nonPotholeTrainImages.extend(glob.glob(\"/content/drive/MyDrive/Colab Notebooks/withpotholes/*.jpg\"))\n",
        "train2 = [cv2.imread(img,0) for img in nonPotholeTrainImages]\n",
        "# train2[train2 != np.array(None)]\n",
        "for i in range(0,len(train2)):\n",
        "    train2[i] = cv2.resize(train2[i],(size,size))\n",
        "temp2 = np.asarray(train2)\n"
      ],
      "metadata": {
        "id": "pqTIuIzMDsYy"
      },
      "execution_count": 54,
      "outputs": []
    },
    {
      "cell_type": "code",
      "source": [
        "## load Testing data : non-pothole\n",
        "nonPotholeTestImages = glob.glob(\"/content/drive/MyDrive/Colab Notebooks/plain/*.jpg\")\n",
        "nonPotholeTestImages.extend(glob.glob(\"/content/drive/MyDrive/Colab Notebooks/plain/*.jpg\"))\n",
        "nonPotholeTestImages.extend(glob.glob(\"/content/drive/MyDrive/Colab Notebooks/plain/*.jpg\"))\n",
        "test2 = [cv2.imread(img,0) for img in nonPotholeTestImages]\n",
        "# train2[train2 != np.array(None)]\n",
        "for i in range(0,len(test2)):\n",
        "    test2[i] = cv2.resize(test2[i],(size,size))\n",
        "temp4 = np.asarray(test2)\n"
      ],
      "metadata": {
        "id": "GFpxQwh2EEFv"
      },
      "execution_count": 55,
      "outputs": []
    },
    {
      "cell_type": "code",
      "source": [
        "## load Testing data : potholes\n",
        "potholeTestImages = glob.glob(\"/content/drive/MyDrive/Colab Notebooks/pot/*.jpg\")\n",
        "potholeTestImages.extend(glob.glob(\"/content/drive/MyDrive/Colab Notebooks/pot/*.jpg\"))\n",
        "potholeTestImages.extend(glob.glob(\"/content/drive/MyDrive/Colab Notebooks/pot/*.jpg\"))\n",
        "test1 = [cv2.imread(img,0) for img in potholeTestImages]\n",
        "# train2[train2 != np.array(None)]\n",
        "for i in range(0,len(test1)):\n",
        "    test1[i] = cv2.resize(test1[i],(size,size))\n",
        "temp3 = np.asarray(test1)\n"
      ],
      "metadata": {
        "id": "uHMgVYCjEKOK"
      },
      "execution_count": 56,
      "outputs": []
    },
    {
      "cell_type": "code",
      "source": [
        "X_train = []\n",
        "X_train.extend(temp1)\n",
        "X_train.extend(temp2)\n",
        "X_train = np.asarray(X_train)"
      ],
      "metadata": {
        "id": "HD4Gh8spEM2I"
      },
      "execution_count": 57,
      "outputs": []
    },
    {
      "cell_type": "code",
      "source": [
        "X_test = []\n",
        "X_test.extend(temp3)\n",
        "X_test.extend(temp4)\n",
        "X_test = np.asarray(X_test)"
      ],
      "metadata": {
        "id": "HeFaDGtIEOPt"
      },
      "execution_count": 58,
      "outputs": []
    },
    {
      "cell_type": "code",
      "source": [
        "y_train1 = np.ones([temp1.shape[0]],dtype = int)\n",
        "y_train2 = np.zeros([temp2.shape[0]],dtype = int)\n",
        "y_test1 = np.ones([temp3.shape[0]],dtype = int)\n",
        "y_test2 = np.zeros([temp4.shape[0]],dtype = int)\n"
      ],
      "metadata": {
        "id": "WNKJFKSMES1j"
      },
      "execution_count": 59,
      "outputs": []
    },
    {
      "cell_type": "code",
      "source": [
        "print(y_train1[0])\n",
        "print(y_train2[0])\n",
        "print(y_test1[0])\n",
        "print(y_test2[0])"
      ],
      "metadata": {
        "colab": {
          "base_uri": "https://localhost:8080/"
        },
        "id": "CZB11_drEVVv",
        "outputId": "6378dec8-8f1b-4091-fcd4-c73ffbaaa24c"
      },
      "execution_count": 60,
      "outputs": [
        {
          "output_type": "stream",
          "name": "stdout",
          "text": [
            "1\n",
            "0\n",
            "1\n",
            "0\n"
          ]
        }
      ]
    },
    {
      "cell_type": "code",
      "source": [
        "y_train = []\n",
        "y_train.extend(y_train1)\n",
        "y_train.extend(y_train2)\n",
        "y_train = np.asarray(y_train)"
      ],
      "metadata": {
        "id": "cjiaVdDdF7d1"
      },
      "execution_count": 61,
      "outputs": []
    },
    {
      "cell_type": "code",
      "source": [
        "y_test = []\n",
        "y_test.extend(y_test1)\n",
        "y_test.extend(y_test2)\n",
        "y_test = np.asarray(y_test)"
      ],
      "metadata": {
        "id": "gguNEQDdGBV2"
      },
      "execution_count": 62,
      "outputs": []
    },
    {
      "cell_type": "code",
      "source": [
        "X_train,y_train = shuffle(X_train,y_train)\n",
        "X_test,y_test = shuffle(X_test,y_test)"
      ],
      "metadata": {
        "id": "H7nHX6EIGH0U"
      },
      "execution_count": 63,
      "outputs": []
    },
    {
      "cell_type": "code",
      "source": [
        "# X_train.reshape([-1,50,50,1])\n",
        "# X_test.reshape([-1,50,50,1])/\n",
        "X_train = X_train.reshape(X_train.shape[0], size, size, 1)\n",
        "X_test = X_test.reshape(X_test.shape[0], size, size, 1)"
      ],
      "metadata": {
        "id": "YYMZW4jXGKp0"
      },
      "execution_count": 64,
      "outputs": []
    },
    {
      "cell_type": "code",
      "source": [
        "from tensorflow.keras.utils import to_categorical  # Import to_categorical\n",
        "\n",
        "y_train = to_categorical(y_train)\n",
        "y_test = to_categorical(y_test)"
      ],
      "metadata": {
        "id": "hKc1zK0dGNVz"
      },
      "execution_count": 66,
      "outputs": []
    },
    {
      "cell_type": "code",
      "source": [
        "print(\"train shape X\", X_train.shape)\n",
        "print(\"train shape y\", y_train.shape)"
      ],
      "metadata": {
        "colab": {
          "base_uri": "https://localhost:8080/"
        },
        "id": "IxqUlHfDGbMz",
        "outputId": "b51db7c5-87ad-44cd-b615-5d8ce41bea76"
      },
      "execution_count": 67,
      "outputs": [
        {
          "output_type": "stream",
          "name": "stdout",
          "text": [
            "train shape X (1896, 100, 100, 1)\n",
            "train shape y (1896, 2)\n"
          ]
        }
      ]
    },
    {
      "cell_type": "code",
      "source": [
        "inputShape = (size, size, 1)\n",
        "model = kerasModel4()"
      ],
      "metadata": {
        "colab": {
          "base_uri": "https://localhost:8080/"
        },
        "id": "35Hec5VEGe2Z",
        "outputId": "dbab49a8-a7c4-42ee-b029-e3297a965e2d"
      },
      "execution_count": 68,
      "outputs": [
        {
          "output_type": "stream",
          "name": "stderr",
          "text": [
            "/usr/local/lib/python3.10/dist-packages/keras/src/layers/convolutional/base_conv.py:107: UserWarning: Do not pass an `input_shape`/`input_dim` argument to a layer. When using Sequential models, prefer using an `Input(shape)` object as the first layer in the model instead.\n",
            "  super().__init__(activity_regularizer=activity_regularizer, **kwargs)\n"
          ]
        }
      ]
    },
    {
      "cell_type": "code",
      "source": [
        "model.compile('adam', 'categorical_crossentropy', metrics=['accuracy'])\n",
        "history = model.fit(X_train, y_train, epochs=100, validation_split=0.1)"
      ],
      "metadata": {
        "colab": {
          "base_uri": "https://localhost:8080/"
        },
        "id": "w5E5XYMaGip_",
        "outputId": "9c9d4de9-5dd5-47a6-f5dc-a983dc8c89dd"
      },
      "execution_count": 72,
      "outputs": [
        {
          "output_type": "stream",
          "name": "stdout",
          "text": [
            "Epoch 1/100\n",
            "\u001b[1m54/54\u001b[0m \u001b[32m━━━━━━━━━━━━━━━━━━━━\u001b[0m\u001b[37m\u001b[0m \u001b[1m5s\u001b[0m 74ms/step - accuracy: 0.4764 - loss: 0.6938 - val_accuracy: 0.4000 - val_loss: 0.6989\n",
            "Epoch 2/100\n",
            "\u001b[1m54/54\u001b[0m \u001b[32m━━━━━━━━━━━━━━━━━━━━\u001b[0m\u001b[37m\u001b[0m \u001b[1m7s\u001b[0m 100ms/step - accuracy: 0.5110 - loss: 0.6926 - val_accuracy: 0.4000 - val_loss: 0.7005\n",
            "Epoch 3/100\n",
            "\u001b[1m54/54\u001b[0m \u001b[32m━━━━━━━━━━━━━━━━━━━━\u001b[0m\u001b[37m\u001b[0m \u001b[1m4s\u001b[0m 70ms/step - accuracy: 0.4717 - loss: 0.6933 - val_accuracy: 0.3947 - val_loss: 0.7008\n",
            "Epoch 4/100\n",
            "\u001b[1m54/54\u001b[0m \u001b[32m━━━━━━━━━━━━━━━━━━━━\u001b[0m\u001b[37m\u001b[0m \u001b[1m5s\u001b[0m 73ms/step - accuracy: 0.5084 - loss: 0.6927 - val_accuracy: 0.4316 - val_loss: 0.7008\n",
            "Epoch 5/100\n",
            "\u001b[1m54/54\u001b[0m \u001b[32m━━━━━━━━━━━━━━━━━━━━\u001b[0m\u001b[37m\u001b[0m \u001b[1m6s\u001b[0m 109ms/step - accuracy: 0.5099 - loss: 0.6924 - val_accuracy: 0.3947 - val_loss: 0.7013\n",
            "Epoch 6/100\n",
            "\u001b[1m54/54\u001b[0m \u001b[32m━━━━━━━━━━━━━━━━━━━━\u001b[0m\u001b[37m\u001b[0m \u001b[1m8s\u001b[0m 70ms/step - accuracy: 0.5091 - loss: 0.6933 - val_accuracy: 0.3947 - val_loss: 0.7022\n",
            "Epoch 7/100\n",
            "\u001b[1m54/54\u001b[0m \u001b[32m━━━━━━━━━━━━━━━━━━━━\u001b[0m\u001b[37m\u001b[0m \u001b[1m8s\u001b[0m 120ms/step - accuracy: 0.4962 - loss: 0.6933 - val_accuracy: 0.4053 - val_loss: 0.7015\n",
            "Epoch 8/100\n",
            "\u001b[1m54/54\u001b[0m \u001b[32m━━━━━━━━━━━━━━━━━━━━\u001b[0m\u001b[37m\u001b[0m \u001b[1m7s\u001b[0m 69ms/step - accuracy: 0.5027 - loss: 0.6931 - val_accuracy: 0.3947 - val_loss: 0.7010\n",
            "Epoch 9/100\n",
            "\u001b[1m54/54\u001b[0m \u001b[32m━━━━━━━━━━━━━━━━━━━━\u001b[0m\u001b[37m\u001b[0m \u001b[1m5s\u001b[0m 87ms/step - accuracy: 0.5115 - loss: 0.6927 - val_accuracy: 0.3947 - val_loss: 0.7017\n",
            "Epoch 10/100\n",
            "\u001b[1m54/54\u001b[0m \u001b[32m━━━━━━━━━━━━━━━━━━━━\u001b[0m\u001b[37m\u001b[0m \u001b[1m6s\u001b[0m 94ms/step - accuracy: 0.5153 - loss: 0.6930 - val_accuracy: 0.3895 - val_loss: 0.7002\n",
            "Epoch 11/100\n",
            "\u001b[1m54/54\u001b[0m \u001b[32m━━━━━━━━━━━━━━━━━━━━\u001b[0m\u001b[37m\u001b[0m \u001b[1m4s\u001b[0m 69ms/step - accuracy: 0.5031 - loss: 0.6929 - val_accuracy: 0.3947 - val_loss: 0.7010\n",
            "Epoch 12/100\n",
            "\u001b[1m54/54\u001b[0m \u001b[32m━━━━━━━━━━━━━━━━━━━━\u001b[0m\u001b[37m\u001b[0m \u001b[1m5s\u001b[0m 76ms/step - accuracy: 0.5026 - loss: 0.6928 - val_accuracy: 0.4105 - val_loss: 0.7022\n",
            "Epoch 13/100\n",
            "\u001b[1m54/54\u001b[0m \u001b[32m━━━━━━━━━━━━━━━━━━━━\u001b[0m\u001b[37m\u001b[0m \u001b[1m6s\u001b[0m 110ms/step - accuracy: 0.5000 - loss: 0.6928 - val_accuracy: 0.3895 - val_loss: 0.7004\n",
            "Epoch 14/100\n",
            "\u001b[1m54/54\u001b[0m \u001b[32m━━━━━━━━━━━━━━━━━━━━\u001b[0m\u001b[37m\u001b[0m \u001b[1m4s\u001b[0m 70ms/step - accuracy: 0.5066 - loss: 0.6932 - val_accuracy: 0.3895 - val_loss: 0.7021\n",
            "Epoch 15/100\n",
            "\u001b[1m54/54\u001b[0m \u001b[32m━━━━━━━━━━━━━━━━━━━━\u001b[0m\u001b[37m\u001b[0m \u001b[1m5s\u001b[0m 69ms/step - accuracy: 0.5234 - loss: 0.6923 - val_accuracy: 0.4789 - val_loss: 0.7016\n",
            "Epoch 16/100\n",
            "\u001b[1m54/54\u001b[0m \u001b[32m━━━━━━━━━━━━━━━━━━━━\u001b[0m\u001b[37m\u001b[0m \u001b[1m7s\u001b[0m 108ms/step - accuracy: 0.4960 - loss: 0.6949 - val_accuracy: 0.4000 - val_loss: 0.7007\n",
            "Epoch 17/100\n",
            "\u001b[1m54/54\u001b[0m \u001b[32m━━━━━━━━━━━━━━━━━━━━\u001b[0m\u001b[37m\u001b[0m \u001b[1m8s\u001b[0m 71ms/step - accuracy: 0.5099 - loss: 0.6924 - val_accuracy: 0.4053 - val_loss: 0.7030\n",
            "Epoch 18/100\n",
            "\u001b[1m54/54\u001b[0m \u001b[32m━━━━━━━━━━━━━━━━━━━━\u001b[0m\u001b[37m\u001b[0m \u001b[1m7s\u001b[0m 128ms/step - accuracy: 0.5063 - loss: 0.6927 - val_accuracy: 0.4158 - val_loss: 0.7030\n",
            "Epoch 19/100\n",
            "\u001b[1m54/54\u001b[0m \u001b[32m━━━━━━━━━━━━━━━━━━━━\u001b[0m\u001b[37m\u001b[0m \u001b[1m7s\u001b[0m 71ms/step - accuracy: 0.4888 - loss: 0.6936 - val_accuracy: 0.4000 - val_loss: 0.7016\n",
            "Epoch 20/100\n",
            "\u001b[1m54/54\u001b[0m \u001b[32m━━━━━━━━━━━━━━━━━━━━\u001b[0m\u001b[37m\u001b[0m \u001b[1m6s\u001b[0m 87ms/step - accuracy: 0.5073 - loss: 0.6926 - val_accuracy: 0.4211 - val_loss: 0.7009\n",
            "Epoch 21/100\n",
            "\u001b[1m54/54\u001b[0m \u001b[32m━━━━━━━━━━━━━━━━━━━━\u001b[0m\u001b[37m\u001b[0m \u001b[1m6s\u001b[0m 94ms/step - accuracy: 0.5106 - loss: 0.6931 - val_accuracy: 0.4000 - val_loss: 0.7026\n",
            "Epoch 22/100\n",
            "\u001b[1m54/54\u001b[0m \u001b[32m━━━━━━━━━━━━━━━━━━━━\u001b[0m\u001b[37m\u001b[0m \u001b[1m4s\u001b[0m 72ms/step - accuracy: 0.5018 - loss: 0.6922 - val_accuracy: 0.4000 - val_loss: 0.7034\n",
            "Epoch 23/100\n",
            "\u001b[1m54/54\u001b[0m \u001b[32m━━━━━━━━━━━━━━━━━━━━\u001b[0m\u001b[37m\u001b[0m \u001b[1m4s\u001b[0m 72ms/step - accuracy: 0.5184 - loss: 0.6927 - val_accuracy: 0.3842 - val_loss: 0.7014\n",
            "Epoch 24/100\n",
            "\u001b[1m54/54\u001b[0m \u001b[32m━━━━━━━━━━━━━━━━━━━━\u001b[0m\u001b[37m\u001b[0m \u001b[1m6s\u001b[0m 117ms/step - accuracy: 0.4969 - loss: 0.6922 - val_accuracy: 0.3947 - val_loss: 0.7033\n",
            "Epoch 25/100\n",
            "\u001b[1m54/54\u001b[0m \u001b[32m━━━━━━━━━━━━━━━━━━━━\u001b[0m\u001b[37m\u001b[0m \u001b[1m4s\u001b[0m 70ms/step - accuracy: 0.5071 - loss: 0.6927 - val_accuracy: 0.3842 - val_loss: 0.7030\n",
            "Epoch 26/100\n",
            "\u001b[1m54/54\u001b[0m \u001b[32m━━━━━━━━━━━━━━━━━━━━\u001b[0m\u001b[37m\u001b[0m \u001b[1m5s\u001b[0m 70ms/step - accuracy: 0.5169 - loss: 0.6929 - val_accuracy: 0.3842 - val_loss: 0.7052\n",
            "Epoch 27/100\n",
            "\u001b[1m54/54\u001b[0m \u001b[32m━━━━━━━━━━━━━━━━━━━━\u001b[0m\u001b[37m\u001b[0m \u001b[1m7s\u001b[0m 113ms/step - accuracy: 0.4999 - loss: 0.6922 - val_accuracy: 0.3842 - val_loss: 0.7053\n",
            "Epoch 28/100\n",
            "\u001b[1m54/54\u001b[0m \u001b[32m━━━━━━━━━━━━━━━━━━━━\u001b[0m\u001b[37m\u001b[0m \u001b[1m8s\u001b[0m 70ms/step - accuracy: 0.5008 - loss: 0.6928 - val_accuracy: 0.3842 - val_loss: 0.7046\n",
            "Epoch 29/100\n",
            "\u001b[1m54/54\u001b[0m \u001b[32m━━━━━━━━━━━━━━━━━━━━\u001b[0m\u001b[37m\u001b[0m \u001b[1m5s\u001b[0m 96ms/step - accuracy: 0.5097 - loss: 0.6927 - val_accuracy: 0.3842 - val_loss: 0.7061\n",
            "Epoch 30/100\n",
            "\u001b[1m54/54\u001b[0m \u001b[32m━━━━━━━━━━━━━━━━━━━━\u001b[0m\u001b[37m\u001b[0m \u001b[1m9s\u001b[0m 70ms/step - accuracy: 0.5090 - loss: 0.6923 - val_accuracy: 0.3842 - val_loss: 0.7045\n",
            "Epoch 31/100\n",
            "\u001b[1m54/54\u001b[0m \u001b[32m━━━━━━━━━━━━━━━━━━━━\u001b[0m\u001b[37m\u001b[0m \u001b[1m5s\u001b[0m 89ms/step - accuracy: 0.4618 - loss: 0.6936 - val_accuracy: 0.3842 - val_loss: 0.7048\n",
            "Epoch 32/100\n",
            "\u001b[1m54/54\u001b[0m \u001b[32m━━━━━━━━━━━━━━━━━━━━\u001b[0m\u001b[37m\u001b[0m \u001b[1m5s\u001b[0m 92ms/step - accuracy: 0.5142 - loss: 0.6927 - val_accuracy: 0.3947 - val_loss: 0.7062\n",
            "Epoch 33/100\n",
            "\u001b[1m54/54\u001b[0m \u001b[32m━━━━━━━━━━━━━━━━━━━━\u001b[0m\u001b[37m\u001b[0m \u001b[1m4s\u001b[0m 71ms/step - accuracy: 0.4957 - loss: 0.6932 - val_accuracy: 0.4737 - val_loss: 0.7059\n",
            "Epoch 34/100\n",
            "\u001b[1m54/54\u001b[0m \u001b[32m━━━━━━━━━━━━━━━━━━━━\u001b[0m\u001b[37m\u001b[0m \u001b[1m6s\u001b[0m 81ms/step - accuracy: 0.4992 - loss: 0.6920 - val_accuracy: 0.3947 - val_loss: 0.7068\n",
            "Epoch 35/100\n",
            "\u001b[1m54/54\u001b[0m \u001b[32m━━━━━━━━━━━━━━━━━━━━\u001b[0m\u001b[37m\u001b[0m \u001b[1m6s\u001b[0m 106ms/step - accuracy: 0.5201 - loss: 0.6929 - val_accuracy: 0.3842 - val_loss: 0.7032\n",
            "Epoch 36/100\n",
            "\u001b[1m54/54\u001b[0m \u001b[32m━━━━━━━━━━━━━━━━━━━━\u001b[0m\u001b[37m\u001b[0m \u001b[1m4s\u001b[0m 70ms/step - accuracy: 0.4944 - loss: 0.6928 - val_accuracy: 0.3842 - val_loss: 0.7038\n",
            "Epoch 37/100\n",
            "\u001b[1m54/54\u001b[0m \u001b[32m━━━━━━━━━━━━━━━━━━━━\u001b[0m\u001b[37m\u001b[0m \u001b[1m5s\u001b[0m 72ms/step - accuracy: 0.4995 - loss: 0.6923 - val_accuracy: 0.4000 - val_loss: 0.7059\n",
            "Epoch 38/100\n",
            "\u001b[1m54/54\u001b[0m \u001b[32m━━━━━━━━━━━━━━━━━━━━\u001b[0m\u001b[37m\u001b[0m \u001b[1m7s\u001b[0m 103ms/step - accuracy: 0.5120 - loss: 0.6933 - val_accuracy: 0.4105 - val_loss: 0.7058\n",
            "Epoch 39/100\n",
            "\u001b[1m54/54\u001b[0m \u001b[32m━━━━━━━━━━━━━━━━━━━━\u001b[0m\u001b[37m\u001b[0m \u001b[1m8s\u001b[0m 70ms/step - accuracy: 0.4931 - loss: 0.6916 - val_accuracy: 0.3842 - val_loss: 0.7028\n",
            "Epoch 40/100\n",
            "\u001b[1m54/54\u001b[0m \u001b[32m━━━━━━━━━━━━━━━━━━━━\u001b[0m\u001b[37m\u001b[0m \u001b[1m7s\u001b[0m 101ms/step - accuracy: 0.5067 - loss: 0.6927 - val_accuracy: 0.3842 - val_loss: 0.7038\n",
            "Epoch 41/100\n",
            "\u001b[1m54/54\u001b[0m \u001b[32m━━━━━━━━━━━━━━━━━━━━\u001b[0m\u001b[37m\u001b[0m \u001b[1m4s\u001b[0m 70ms/step - accuracy: 0.5064 - loss: 0.6929 - val_accuracy: 0.3842 - val_loss: 0.7032\n",
            "Epoch 42/100\n",
            "\u001b[1m54/54\u001b[0m \u001b[32m━━━━━━━━━━━━━━━━━━━━\u001b[0m\u001b[37m\u001b[0m \u001b[1m4s\u001b[0m 70ms/step - accuracy: 0.5048 - loss: 0.6933 - val_accuracy: 0.3842 - val_loss: 0.7038\n",
            "Epoch 43/100\n",
            "\u001b[1m54/54\u001b[0m \u001b[32m━━━━━━━━━━━━━━━━━━━━\u001b[0m\u001b[37m\u001b[0m \u001b[1m8s\u001b[0m 114ms/step - accuracy: 0.5032 - loss: 0.6935 - val_accuracy: 0.3842 - val_loss: 0.7054\n",
            "Epoch 44/100\n",
            "\u001b[1m54/54\u001b[0m \u001b[32m━━━━━━━━━━━━━━━━━━━━\u001b[0m\u001b[37m\u001b[0m \u001b[1m8s\u001b[0m 70ms/step - accuracy: 0.5060 - loss: 0.6928 - val_accuracy: 0.3842 - val_loss: 0.7047\n",
            "Epoch 45/100\n",
            "\u001b[1m54/54\u001b[0m \u001b[32m━━━━━━━━━━━━━━━━━━━━\u001b[0m\u001b[37m\u001b[0m \u001b[1m7s\u001b[0m 108ms/step - accuracy: 0.5102 - loss: 0.6921 - val_accuracy: 0.3842 - val_loss: 0.7075\n",
            "Epoch 46/100\n",
            "\u001b[1m54/54\u001b[0m \u001b[32m━━━━━━━━━━━━━━━━━━━━\u001b[0m\u001b[37m\u001b[0m \u001b[1m8s\u001b[0m 71ms/step - accuracy: 0.4996 - loss: 0.6914 - val_accuracy: 0.3737 - val_loss: 0.7077\n",
            "Epoch 47/100\n",
            "\u001b[1m54/54\u001b[0m \u001b[32m━━━━━━━━━━━━━━━━━━━━\u001b[0m\u001b[37m\u001b[0m \u001b[1m5s\u001b[0m 88ms/step - accuracy: 0.4958 - loss: 0.6932 - val_accuracy: 0.3737 - val_loss: 0.7066\n",
            "Epoch 48/100\n",
            "\u001b[1m54/54\u001b[0m \u001b[32m━━━━━━━━━━━━━━━━━━━━\u001b[0m\u001b[37m\u001b[0m \u001b[1m5s\u001b[0m 99ms/step - accuracy: 0.5227 - loss: 0.6922 - val_accuracy: 0.3737 - val_loss: 0.7071\n",
            "Epoch 49/100\n",
            "\u001b[1m54/54\u001b[0m \u001b[32m━━━━━━━━━━━━━━━━━━━━\u001b[0m\u001b[37m\u001b[0m \u001b[1m9s\u001b[0m 70ms/step - accuracy: 0.5179 - loss: 0.6918 - val_accuracy: 0.3737 - val_loss: 0.7079\n",
            "Epoch 50/100\n",
            "\u001b[1m54/54\u001b[0m \u001b[32m━━━━━━━━━━━━━━━━━━━━\u001b[0m\u001b[37m\u001b[0m \u001b[1m6s\u001b[0m 114ms/step - accuracy: 0.4910 - loss: 0.6910 - val_accuracy: 0.4053 - val_loss: 0.7048\n",
            "Epoch 51/100\n",
            "\u001b[1m54/54\u001b[0m \u001b[32m━━━━━━━━━━━━━━━━━━━━\u001b[0m\u001b[37m\u001b[0m \u001b[1m8s\u001b[0m 70ms/step - accuracy: 0.5031 - loss: 0.6925 - val_accuracy: 0.3789 - val_loss: 0.7065\n",
            "Epoch 52/100\n",
            "\u001b[1m54/54\u001b[0m \u001b[32m━━━━━━━━━━━━━━━━━━━━\u001b[0m\u001b[37m\u001b[0m \u001b[1m7s\u001b[0m 110ms/step - accuracy: 0.5217 - loss: 0.6929 - val_accuracy: 0.3737 - val_loss: 0.7075\n",
            "Epoch 53/100\n",
            "\u001b[1m54/54\u001b[0m \u001b[32m━━━━━━━━━━━━━━━━━━━━\u001b[0m\u001b[37m\u001b[0m \u001b[1m8s\u001b[0m 70ms/step - accuracy: 0.4968 - loss: 0.6923 - val_accuracy: 0.4105 - val_loss: 0.7090\n",
            "Epoch 54/100\n",
            "\u001b[1m54/54\u001b[0m \u001b[32m━━━━━━━━━━━━━━━━━━━━\u001b[0m\u001b[37m\u001b[0m \u001b[1m7s\u001b[0m 104ms/step - accuracy: 0.4883 - loss: 0.6934 - val_accuracy: 0.3737 - val_loss: 0.7084\n",
            "Epoch 55/100\n",
            "\u001b[1m54/54\u001b[0m \u001b[32m━━━━━━━━━━━━━━━━━━━━\u001b[0m\u001b[37m\u001b[0m \u001b[1m8s\u001b[0m 69ms/step - accuracy: 0.5087 - loss: 0.6929 - val_accuracy: 0.3895 - val_loss: 0.7082\n",
            "Epoch 56/100\n",
            "\u001b[1m54/54\u001b[0m \u001b[32m━━━━━━━━━━━━━━━━━━━━\u001b[0m\u001b[37m\u001b[0m \u001b[1m5s\u001b[0m 91ms/step - accuracy: 0.5044 - loss: 0.6933 - val_accuracy: 0.3947 - val_loss: 0.7085\n",
            "Epoch 57/100\n",
            "\u001b[1m54/54\u001b[0m \u001b[32m━━━━━━━━━━━━━━━━━━━━\u001b[0m\u001b[37m\u001b[0m \u001b[1m5s\u001b[0m 94ms/step - accuracy: 0.5206 - loss: 0.6913 - val_accuracy: 0.3895 - val_loss: 0.7066\n",
            "Epoch 58/100\n",
            "\u001b[1m54/54\u001b[0m \u001b[32m━━━━━━━━━━━━━━━━━━━━\u001b[0m\u001b[37m\u001b[0m \u001b[1m4s\u001b[0m 69ms/step - accuracy: 0.4847 - loss: 0.6935 - val_accuracy: 0.3737 - val_loss: 0.7087\n",
            "Epoch 59/100\n",
            "\u001b[1m54/54\u001b[0m \u001b[32m━━━━━━━━━━━━━━━━━━━━\u001b[0m\u001b[37m\u001b[0m \u001b[1m4s\u001b[0m 70ms/step - accuracy: 0.5329 - loss: 0.6918 - val_accuracy: 0.3737 - val_loss: 0.7097\n",
            "Epoch 60/100\n",
            "\u001b[1m54/54\u001b[0m \u001b[32m━━━━━━━━━━━━━━━━━━━━\u001b[0m\u001b[37m\u001b[0m \u001b[1m6s\u001b[0m 107ms/step - accuracy: 0.5280 - loss: 0.6919 - val_accuracy: 0.4053 - val_loss: 0.7122\n",
            "Epoch 61/100\n",
            "\u001b[1m54/54\u001b[0m \u001b[32m━━━━━━━━━━━━━━━━━━━━\u001b[0m\u001b[37m\u001b[0m \u001b[1m8s\u001b[0m 69ms/step - accuracy: 0.5096 - loss: 0.6917 - val_accuracy: 0.3842 - val_loss: 0.7079\n",
            "Epoch 62/100\n",
            "\u001b[1m54/54\u001b[0m \u001b[32m━━━━━━━━━━━━━━━━━━━━\u001b[0m\u001b[37m\u001b[0m \u001b[1m5s\u001b[0m 88ms/step - accuracy: 0.5037 - loss: 0.6923 - val_accuracy: 0.3737 - val_loss: 0.7094\n",
            "Epoch 63/100\n",
            "\u001b[1m54/54\u001b[0m \u001b[32m━━━━━━━━━━━━━━━━━━━━\u001b[0m\u001b[37m\u001b[0m \u001b[1m5s\u001b[0m 91ms/step - accuracy: 0.5177 - loss: 0.6918 - val_accuracy: 0.3737 - val_loss: 0.7101\n",
            "Epoch 64/100\n",
            "\u001b[1m54/54\u001b[0m \u001b[32m━━━━━━━━━━━━━━━━━━━━\u001b[0m\u001b[37m\u001b[0m \u001b[1m4s\u001b[0m 70ms/step - accuracy: 0.5072 - loss: 0.6931 - val_accuracy: 0.3737 - val_loss: 0.7095\n",
            "Epoch 65/100\n",
            "\u001b[1m54/54\u001b[0m \u001b[32m━━━━━━━━━━━━━━━━━━━━\u001b[0m\u001b[37m\u001b[0m \u001b[1m6s\u001b[0m 80ms/step - accuracy: 0.5213 - loss: 0.6926 - val_accuracy: 0.3737 - val_loss: 0.7123\n",
            "Epoch 66/100\n",
            "\u001b[1m54/54\u001b[0m \u001b[32m━━━━━━━━━━━━━━━━━━━━\u001b[0m\u001b[37m\u001b[0m \u001b[1m6s\u001b[0m 95ms/step - accuracy: 0.4944 - loss: 0.6942 - val_accuracy: 0.3737 - val_loss: 0.7110\n",
            "Epoch 67/100\n",
            "\u001b[1m54/54\u001b[0m \u001b[32m━━━━━━━━━━━━━━━━━━━━\u001b[0m\u001b[37m\u001b[0m \u001b[1m4s\u001b[0m 69ms/step - accuracy: 0.4956 - loss: 0.6913 - val_accuracy: 0.3737 - val_loss: 0.7113\n",
            "Epoch 68/100\n",
            "\u001b[1m54/54\u001b[0m \u001b[32m━━━━━━━━━━━━━━━━━━━━\u001b[0m\u001b[37m\u001b[0m \u001b[1m4s\u001b[0m 70ms/step - accuracy: 0.5021 - loss: 0.6927 - val_accuracy: 0.3737 - val_loss: 0.7110\n",
            "Epoch 69/100\n",
            "\u001b[1m54/54\u001b[0m \u001b[32m━━━━━━━━━━━━━━━━━━━━\u001b[0m\u001b[37m\u001b[0m \u001b[1m6s\u001b[0m 110ms/step - accuracy: 0.5065 - loss: 0.6933 - val_accuracy: 0.3789 - val_loss: 0.7109\n",
            "Epoch 70/100\n",
            "\u001b[1m54/54\u001b[0m \u001b[32m━━━━━━━━━━━━━━━━━━━━\u001b[0m\u001b[37m\u001b[0m \u001b[1m8s\u001b[0m 71ms/step - accuracy: 0.5066 - loss: 0.6914 - val_accuracy: 0.3842 - val_loss: 0.7076\n",
            "Epoch 71/100\n",
            "\u001b[1m54/54\u001b[0m \u001b[32m━━━━━━━━━━━━━━━━━━━━\u001b[0m\u001b[37m\u001b[0m \u001b[1m5s\u001b[0m 92ms/step - accuracy: 0.5194 - loss: 0.6922 - val_accuracy: 0.3789 - val_loss: 0.7101\n",
            "Epoch 72/100\n",
            "\u001b[1m54/54\u001b[0m \u001b[32m━━━━━━━━━━━━━━━━━━━━\u001b[0m\u001b[37m\u001b[0m \u001b[1m5s\u001b[0m 95ms/step - accuracy: 0.5032 - loss: 0.6926 - val_accuracy: 0.3737 - val_loss: 0.7079\n",
            "Epoch 73/100\n",
            "\u001b[1m54/54\u001b[0m \u001b[32m━━━━━━━━━━━━━━━━━━━━\u001b[0m\u001b[37m\u001b[0m \u001b[1m4s\u001b[0m 70ms/step - accuracy: 0.5094 - loss: 0.6930 - val_accuracy: 0.3737 - val_loss: 0.7084\n",
            "Epoch 74/100\n",
            "\u001b[1m54/54\u001b[0m \u001b[32m━━━━━━━━━━━━━━━━━━━━\u001b[0m\u001b[37m\u001b[0m \u001b[1m5s\u001b[0m 77ms/step - accuracy: 0.5021 - loss: 0.6908 - val_accuracy: 0.3737 - val_loss: 0.7117\n",
            "Epoch 75/100\n",
            "\u001b[1m54/54\u001b[0m \u001b[32m━━━━━━━━━━━━━━━━━━━━\u001b[0m\u001b[37m\u001b[0m \u001b[1m6s\u001b[0m 110ms/step - accuracy: 0.5390 - loss: 0.6902 - val_accuracy: 0.3737 - val_loss: 0.7093\n",
            "Epoch 76/100\n",
            "\u001b[1m54/54\u001b[0m \u001b[32m━━━━━━━━━━━━━━━━━━━━\u001b[0m\u001b[37m\u001b[0m \u001b[1m8s\u001b[0m 70ms/step - accuracy: 0.4934 - loss: 0.6929 - val_accuracy: 0.4684 - val_loss: 0.7096\n",
            "Epoch 77/100\n",
            "\u001b[1m54/54\u001b[0m \u001b[32m━━━━━━━━━━━━━━━━━━━━\u001b[0m\u001b[37m\u001b[0m \u001b[1m7s\u001b[0m 114ms/step - accuracy: 0.5123 - loss: 0.6922 - val_accuracy: 0.3737 - val_loss: 0.7091\n",
            "Epoch 78/100\n",
            "\u001b[1m54/54\u001b[0m \u001b[32m━━━━━━━━━━━━━━━━━━━━\u001b[0m\u001b[37m\u001b[0m \u001b[1m8s\u001b[0m 71ms/step - accuracy: 0.5043 - loss: 0.6929 - val_accuracy: 0.3842 - val_loss: 0.7113\n",
            "Epoch 79/100\n",
            "\u001b[1m54/54\u001b[0m \u001b[32m━━━━━━━━━━━━━━━━━━━━\u001b[0m\u001b[37m\u001b[0m \u001b[1m7s\u001b[0m 105ms/step - accuracy: 0.5225 - loss: 0.6922 - val_accuracy: 0.3789 - val_loss: 0.7107\n",
            "Epoch 80/100\n",
            "\u001b[1m54/54\u001b[0m \u001b[32m━━━━━━━━━━━━━━━━━━━━\u001b[0m\u001b[37m\u001b[0m \u001b[1m8s\u001b[0m 70ms/step - accuracy: 0.5086 - loss: 0.6930 - val_accuracy: 0.3737 - val_loss: 0.7112\n",
            "Epoch 81/100\n",
            "\u001b[1m54/54\u001b[0m \u001b[32m━━━━━━━━━━━━━━━━━━━━\u001b[0m\u001b[37m\u001b[0m \u001b[1m5s\u001b[0m 91ms/step - accuracy: 0.5448 - loss: 0.6892 - val_accuracy: 0.3895 - val_loss: 0.7089\n",
            "Epoch 82/100\n",
            "\u001b[1m54/54\u001b[0m \u001b[32m━━━━━━━━━━━━━━━━━━━━\u001b[0m\u001b[37m\u001b[0m \u001b[1m5s\u001b[0m 95ms/step - accuracy: 0.5033 - loss: 0.6929 - val_accuracy: 0.4105 - val_loss: 0.7064\n",
            "Epoch 83/100\n",
            "\u001b[1m54/54\u001b[0m \u001b[32m━━━━━━━━━━━━━━━━━━━━\u001b[0m\u001b[37m\u001b[0m \u001b[1m9s\u001b[0m 75ms/step - accuracy: 0.5072 - loss: 0.6926 - val_accuracy: 0.4158 - val_loss: 0.7057\n",
            "Epoch 84/100\n",
            "\u001b[1m54/54\u001b[0m \u001b[32m━━━━━━━━━━━━━━━━━━━━\u001b[0m\u001b[37m\u001b[0m \u001b[1m6s\u001b[0m 91ms/step - accuracy: 0.5134 - loss: 0.6919 - val_accuracy: 0.3895 - val_loss: 0.7079\n",
            "Epoch 85/100\n",
            "\u001b[1m54/54\u001b[0m \u001b[32m━━━━━━━━━━━━━━━━━━━━\u001b[0m\u001b[37m\u001b[0m \u001b[1m4s\u001b[0m 70ms/step - accuracy: 0.5177 - loss: 0.6919 - val_accuracy: 0.3895 - val_loss: 0.7091\n",
            "Epoch 86/100\n",
            "\u001b[1m54/54\u001b[0m \u001b[32m━━━━━━━━━━━━━━━━━━━━\u001b[0m\u001b[37m\u001b[0m \u001b[1m4s\u001b[0m 71ms/step - accuracy: 0.5035 - loss: 0.6924 - val_accuracy: 0.3895 - val_loss: 0.7104\n",
            "Epoch 87/100\n",
            "\u001b[1m54/54\u001b[0m \u001b[32m━━━━━━━━━━━━━━━━━━━━\u001b[0m\u001b[37m\u001b[0m \u001b[1m6s\u001b[0m 117ms/step - accuracy: 0.5308 - loss: 0.6916 - val_accuracy: 0.3789 - val_loss: 0.7156\n",
            "Epoch 88/100\n",
            "\u001b[1m54/54\u001b[0m \u001b[32m━━━━━━━━━━━━━━━━━━━━\u001b[0m\u001b[37m\u001b[0m \u001b[1m4s\u001b[0m 71ms/step - accuracy: 0.5224 - loss: 0.6925 - val_accuracy: 0.3789 - val_loss: 0.7118\n",
            "Epoch 89/100\n",
            "\u001b[1m54/54\u001b[0m \u001b[32m━━━━━━━━━━━━━━━━━━━━\u001b[0m\u001b[37m\u001b[0m \u001b[1m4s\u001b[0m 71ms/step - accuracy: 0.4987 - loss: 0.6925 - val_accuracy: 0.3842 - val_loss: 0.7114\n",
            "Epoch 90/100\n",
            "\u001b[1m54/54\u001b[0m \u001b[32m━━━━━━━━━━━━━━━━━━━━\u001b[0m\u001b[37m\u001b[0m \u001b[1m7s\u001b[0m 104ms/step - accuracy: 0.5132 - loss: 0.6921 - val_accuracy: 0.3737 - val_loss: 0.7135\n",
            "Epoch 91/100\n",
            "\u001b[1m54/54\u001b[0m \u001b[32m━━━━━━━━━━━━━━━━━━━━\u001b[0m\u001b[37m\u001b[0m \u001b[1m4s\u001b[0m 82ms/step - accuracy: 0.5211 - loss: 0.6929 - val_accuracy: 0.3895 - val_loss: 0.7101\n",
            "Epoch 92/100\n",
            "\u001b[1m54/54\u001b[0m \u001b[32m━━━━━━━━━━━━━━━━━━━━\u001b[0m\u001b[37m\u001b[0m \u001b[1m4s\u001b[0m 71ms/step - accuracy: 0.4969 - loss: 0.6921 - val_accuracy: 0.3737 - val_loss: 0.7125\n",
            "Epoch 93/100\n",
            "\u001b[1m54/54\u001b[0m \u001b[32m━━━━━━━━━━━━━━━━━━━━\u001b[0m\u001b[37m\u001b[0m \u001b[1m4s\u001b[0m 79ms/step - accuracy: 0.5421 - loss: 0.6911 - val_accuracy: 0.3895 - val_loss: 0.7081\n",
            "Epoch 94/100\n",
            "\u001b[1m54/54\u001b[0m \u001b[32m━━━━━━━━━━━━━━━━━━━━\u001b[0m\u001b[37m\u001b[0m \u001b[1m6s\u001b[0m 111ms/step - accuracy: 0.5126 - loss: 0.6935 - val_accuracy: 0.4105 - val_loss: 0.7071\n",
            "Epoch 95/100\n",
            "\u001b[1m54/54\u001b[0m \u001b[32m━━━━━━━━━━━━━━━━━━━━\u001b[0m\u001b[37m\u001b[0m \u001b[1m8s\u001b[0m 71ms/step - accuracy: 0.5121 - loss: 0.6908 - val_accuracy: 0.3947 - val_loss: 0.7100\n",
            "Epoch 96/100\n",
            "\u001b[1m54/54\u001b[0m \u001b[32m━━━━━━━━━━━━━━━━━━━━\u001b[0m\u001b[37m\u001b[0m \u001b[1m8s\u001b[0m 118ms/step - accuracy: 0.4756 - loss: 0.6921 - val_accuracy: 0.3895 - val_loss: 0.7104\n",
            "Epoch 97/100\n",
            "\u001b[1m54/54\u001b[0m \u001b[32m━━━━━━━━━━━━━━━━━━━━\u001b[0m\u001b[37m\u001b[0m \u001b[1m4s\u001b[0m 71ms/step - accuracy: 0.5194 - loss: 0.6918 - val_accuracy: 0.3789 - val_loss: 0.7123\n",
            "Epoch 98/100\n",
            "\u001b[1m54/54\u001b[0m \u001b[32m━━━━━━━━━━━━━━━━━━━━\u001b[0m\u001b[37m\u001b[0m \u001b[1m4s\u001b[0m 70ms/step - accuracy: 0.5236 - loss: 0.6920 - val_accuracy: 0.3842 - val_loss: 0.7128\n",
            "Epoch 99/100\n",
            "\u001b[1m54/54\u001b[0m \u001b[32m━━━━━━━━━━━━━━━━━━━━\u001b[0m\u001b[37m\u001b[0m \u001b[1m5s\u001b[0m 87ms/step - accuracy: 0.5084 - loss: 0.6920 - val_accuracy: 0.3737 - val_loss: 0.7150\n",
            "Epoch 100/100\n",
            "\u001b[1m54/54\u001b[0m \u001b[32m━━━━━━━━━━━━━━━━━━━━\u001b[0m\u001b[37m\u001b[0m \u001b[1m5s\u001b[0m 101ms/step - accuracy: 0.5206 - loss: 0.6920 - val_accuracy: 0.3737 - val_loss: 0.7153\n"
          ]
        }
      ]
    },
    {
      "cell_type": "code",
      "source": [
        "metrics = model.evaluate(X_test, y_test)\n",
        "for metric_i in range(len(model.metrics_names)):\n",
        "    metric_name = model.metrics_names[metric_i]\n",
        "    metric_value = metrics[metric_i]\n",
        "    print('{}: {}'.format(metric_name, metric_value))"
      ],
      "metadata": {
        "colab": {
          "base_uri": "https://localhost:8080/"
        },
        "id": "2BzceoiqO8Mm",
        "outputId": "353bc545-0054-4fd8-f8d2-05b7c11ceb9f"
      },
      "execution_count": 73,
      "outputs": [
        {
          "output_type": "stream",
          "name": "stdout",
          "text": [
            "\u001b[1m2/2\u001b[0m \u001b[32m━━━━━━━━━━━━━━━━━━━━\u001b[0m\u001b[37m\u001b[0m \u001b[1m0s\u001b[0m 9ms/step - accuracy: 0.6083 - loss: 0.7060 \n",
            "loss: 0.7057245373725891\n",
            "compile_metrics: 0.6000000238418579\n"
          ]
        }
      ]
    },
    {
      "cell_type": "code",
      "source": [
        "print(\"Saving model weights and configuration file\")"
      ],
      "metadata": {
        "colab": {
          "base_uri": "https://localhost:8080/"
        },
        "id": "5CBdSc2nTcHX",
        "outputId": "fb3de2b7-7e8b-44b4-ed30-2f6eb38fa358"
      },
      "execution_count": 74,
      "outputs": [
        {
          "output_type": "stream",
          "name": "stdout",
          "text": [
            "Saving model weights and configuration file\n"
          ]
        }
      ]
    },
    {
      "cell_type": "code",
      "source": [
        "model.save('sample.h5')\n"
      ],
      "metadata": {
        "colab": {
          "base_uri": "https://localhost:8080/"
        },
        "id": "3tfbn6AKT9eA",
        "outputId": "ad5a2b27-b908-4d1b-df25-f6110ac6e524"
      },
      "execution_count": 75,
      "outputs": [
        {
          "output_type": "stream",
          "name": "stderr",
          "text": [
            "WARNING:absl:You are saving your model as an HDF5 file via `model.save()` or `keras.saving.save_model(model)`. This file format is considered legacy. We recommend using instead the native Keras format, e.g. `model.save('my_model.keras')` or `keras.saving.save_model(model, 'my_model.keras')`. \n"
          ]
        }
      ]
    },
    {
      "cell_type": "code",
      "source": [
        "from google.colab import files\n",
        "files.download('sample.h5')\n"
      ],
      "metadata": {
        "colab": {
          "base_uri": "https://localhost:8080/",
          "height": 17
        },
        "id": "v7SyvJbyUCh3",
        "outputId": "e2747db8-4b3f-45f6-db85-7a04ee9bdb98"
      },
      "execution_count": 77,
      "outputs": [
        {
          "output_type": "display_data",
          "data": {
            "text/plain": [
              "<IPython.core.display.Javascript object>"
            ],
            "application/javascript": [
              "\n",
              "    async function download(id, filename, size) {\n",
              "      if (!google.colab.kernel.accessAllowed) {\n",
              "        return;\n",
              "      }\n",
              "      const div = document.createElement('div');\n",
              "      const label = document.createElement('label');\n",
              "      label.textContent = `Downloading \"${filename}\": `;\n",
              "      div.appendChild(label);\n",
              "      const progress = document.createElement('progress');\n",
              "      progress.max = size;\n",
              "      div.appendChild(progress);\n",
              "      document.body.appendChild(div);\n",
              "\n",
              "      const buffers = [];\n",
              "      let downloaded = 0;\n",
              "\n",
              "      const channel = await google.colab.kernel.comms.open(id);\n",
              "      // Send a message to notify the kernel that we're ready.\n",
              "      channel.send({})\n",
              "\n",
              "      for await (const message of channel.messages) {\n",
              "        // Send a message to notify the kernel that we're ready.\n",
              "        channel.send({})\n",
              "        if (message.buffers) {\n",
              "          for (const buffer of message.buffers) {\n",
              "            buffers.push(buffer);\n",
              "            downloaded += buffer.byteLength;\n",
              "            progress.value = downloaded;\n",
              "          }\n",
              "        }\n",
              "      }\n",
              "      const blob = new Blob(buffers, {type: 'application/binary'});\n",
              "      const a = document.createElement('a');\n",
              "      a.href = window.URL.createObjectURL(blob);\n",
              "      a.download = filename;\n",
              "      div.appendChild(a);\n",
              "      a.click();\n",
              "      div.remove();\n",
              "    }\n",
              "  "
            ]
          },
          "metadata": {}
        },
        {
          "output_type": "display_data",
          "data": {
            "text/plain": [
              "<IPython.core.display.Javascript object>"
            ],
            "application/javascript": [
              "download(\"download_6d9fd5de-c120-4ff7-967b-e9b9194f0d7b\", \"sample.h5\", 424960)"
            ]
          },
          "metadata": {}
        }
      ]
    }
  ]
}