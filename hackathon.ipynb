{
  "nbformat": 4,
  "nbformat_minor": 0,
  "metadata": {
    "colab": {
      "provenance": []
    },
    "kernelspec": {
      "name": "python3",
      "display_name": "Python 3"
    },
    "language_info": {
      "name": "python"
    }
  },
  "cells": [
    {
      "cell_type": "code",
      "execution_count": null,
      "metadata": {
        "colab": {
          "base_uri": "https://localhost:8080/"
        },
        "id": "zvxrD8vBQ99U",
        "outputId": "dc326c17-69fc-49c3-87e1-04baad6a7d7f"
      },
      "outputs": [
        {
          "output_type": "stream",
          "name": "stdout",
          "text": [
            "Requirement already satisfied: tensorflow in /usr/local/lib/python3.10/dist-packages (2.17.1)\n",
            "Requirement already satisfied: matplotlib in /usr/local/lib/python3.10/dist-packages (3.10.0)\n",
            "Requirement already satisfied: opencv-python in /usr/local/lib/python3.10/dist-packages (4.10.0.84)\n",
            "Requirement already satisfied: absl-py>=1.0.0 in /usr/local/lib/python3.10/dist-packages (from tensorflow) (1.4.0)\n",
            "Requirement already satisfied: astunparse>=1.6.0 in /usr/local/lib/python3.10/dist-packages (from tensorflow) (1.6.3)\n",
            "Requirement already satisfied: flatbuffers>=24.3.25 in /usr/local/lib/python3.10/dist-packages (from tensorflow) (24.12.23)\n",
            "Requirement already satisfied: gast!=0.5.0,!=0.5.1,!=0.5.2,>=0.2.1 in /usr/local/lib/python3.10/dist-packages (from tensorflow) (0.6.0)\n",
            "Requirement already satisfied: google-pasta>=0.1.1 in /usr/local/lib/python3.10/dist-packages (from tensorflow) (0.2.0)\n",
            "Requirement already satisfied: h5py>=3.10.0 in /usr/local/lib/python3.10/dist-packages (from tensorflow) (3.12.1)\n",
            "Requirement already satisfied: libclang>=13.0.0 in /usr/local/lib/python3.10/dist-packages (from tensorflow) (18.1.1)\n",
            "Requirement already satisfied: ml-dtypes<0.5.0,>=0.3.1 in /usr/local/lib/python3.10/dist-packages (from tensorflow) (0.4.1)\n",
            "Requirement already satisfied: opt-einsum>=2.3.2 in /usr/local/lib/python3.10/dist-packages (from tensorflow) (3.4.0)\n",
            "Requirement already satisfied: packaging in /usr/local/lib/python3.10/dist-packages (from tensorflow) (24.2)\n",
            "Requirement already satisfied: protobuf!=4.21.0,!=4.21.1,!=4.21.2,!=4.21.3,!=4.21.4,!=4.21.5,<5.0.0dev,>=3.20.3 in /usr/local/lib/python3.10/dist-packages (from tensorflow) (4.25.5)\n",
            "Requirement already satisfied: requests<3,>=2.21.0 in /usr/local/lib/python3.10/dist-packages (from tensorflow) (2.32.3)\n",
            "Requirement already satisfied: setuptools in /usr/local/lib/python3.10/dist-packages (from tensorflow) (75.1.0)\n",
            "Requirement already satisfied: six>=1.12.0 in /usr/local/lib/python3.10/dist-packages (from tensorflow) (1.17.0)\n",
            "Requirement already satisfied: termcolor>=1.1.0 in /usr/local/lib/python3.10/dist-packages (from tensorflow) (2.5.0)\n",
            "Requirement already satisfied: typing-extensions>=3.6.6 in /usr/local/lib/python3.10/dist-packages (from tensorflow) (4.12.2)\n",
            "Requirement already satisfied: wrapt>=1.11.0 in /usr/local/lib/python3.10/dist-packages (from tensorflow) (1.17.0)\n",
            "Requirement already satisfied: grpcio<2.0,>=1.24.3 in /usr/local/lib/python3.10/dist-packages (from tensorflow) (1.69.0)\n",
            "Requirement already satisfied: tensorboard<2.18,>=2.17 in /usr/local/lib/python3.10/dist-packages (from tensorflow) (2.17.1)\n",
            "Requirement already satisfied: keras>=3.2.0 in /usr/local/lib/python3.10/dist-packages (from tensorflow) (3.5.0)\n",
            "Requirement already satisfied: tensorflow-io-gcs-filesystem>=0.23.1 in /usr/local/lib/python3.10/dist-packages (from tensorflow) (0.37.1)\n",
            "Requirement already satisfied: numpy<2.0.0,>=1.23.5 in /usr/local/lib/python3.10/dist-packages (from tensorflow) (1.26.4)\n",
            "Requirement already satisfied: contourpy>=1.0.1 in /usr/local/lib/python3.10/dist-packages (from matplotlib) (1.3.1)\n",
            "Requirement already satisfied: cycler>=0.10 in /usr/local/lib/python3.10/dist-packages (from matplotlib) (0.12.1)\n",
            "Requirement already satisfied: fonttools>=4.22.0 in /usr/local/lib/python3.10/dist-packages (from matplotlib) (4.55.3)\n",
            "Requirement already satisfied: kiwisolver>=1.3.1 in /usr/local/lib/python3.10/dist-packages (from matplotlib) (1.4.8)\n",
            "Requirement already satisfied: pillow>=8 in /usr/local/lib/python3.10/dist-packages (from matplotlib) (11.1.0)\n",
            "Requirement already satisfied: pyparsing>=2.3.1 in /usr/local/lib/python3.10/dist-packages (from matplotlib) (3.2.1)\n",
            "Requirement already satisfied: python-dateutil>=2.7 in /usr/local/lib/python3.10/dist-packages (from matplotlib) (2.8.2)\n",
            "Requirement already satisfied: wheel<1.0,>=0.23.0 in /usr/local/lib/python3.10/dist-packages (from astunparse>=1.6.0->tensorflow) (0.45.1)\n",
            "Requirement already satisfied: rich in /usr/local/lib/python3.10/dist-packages (from keras>=3.2.0->tensorflow) (13.9.4)\n",
            "Requirement already satisfied: namex in /usr/local/lib/python3.10/dist-packages (from keras>=3.2.0->tensorflow) (0.0.8)\n",
            "Requirement already satisfied: optree in /usr/local/lib/python3.10/dist-packages (from keras>=3.2.0->tensorflow) (0.13.1)\n",
            "Requirement already satisfied: charset-normalizer<4,>=2 in /usr/local/lib/python3.10/dist-packages (from requests<3,>=2.21.0->tensorflow) (3.4.1)\n",
            "Requirement already satisfied: idna<4,>=2.5 in /usr/local/lib/python3.10/dist-packages (from requests<3,>=2.21.0->tensorflow) (3.10)\n",
            "Requirement already satisfied: urllib3<3,>=1.21.1 in /usr/local/lib/python3.10/dist-packages (from requests<3,>=2.21.0->tensorflow) (2.3.0)\n",
            "Requirement already satisfied: certifi>=2017.4.17 in /usr/local/lib/python3.10/dist-packages (from requests<3,>=2.21.0->tensorflow) (2024.12.14)\n",
            "Requirement already satisfied: markdown>=2.6.8 in /usr/local/lib/python3.10/dist-packages (from tensorboard<2.18,>=2.17->tensorflow) (3.7)\n",
            "Requirement already satisfied: tensorboard-data-server<0.8.0,>=0.7.0 in /usr/local/lib/python3.10/dist-packages (from tensorboard<2.18,>=2.17->tensorflow) (0.7.2)\n",
            "Requirement already satisfied: werkzeug>=1.0.1 in /usr/local/lib/python3.10/dist-packages (from tensorboard<2.18,>=2.17->tensorflow) (3.1.3)\n",
            "Requirement already satisfied: MarkupSafe>=2.1.1 in /usr/local/lib/python3.10/dist-packages (from werkzeug>=1.0.1->tensorboard<2.18,>=2.17->tensorflow) (3.0.2)\n",
            "Requirement already satisfied: markdown-it-py>=2.2.0 in /usr/local/lib/python3.10/dist-packages (from rich->keras>=3.2.0->tensorflow) (3.0.0)\n",
            "Requirement already satisfied: pygments<3.0.0,>=2.13.0 in /usr/local/lib/python3.10/dist-packages (from rich->keras>=3.2.0->tensorflow) (2.18.0)\n",
            "Requirement already satisfied: mdurl~=0.1 in /usr/local/lib/python3.10/dist-packages (from markdown-it-py>=2.2.0->rich->keras>=3.2.0->tensorflow) (0.1.2)\n"
          ]
        }
      ],
      "source": [
        "!pip install tensorflow matplotlib opencv-python\n"
      ]
    },
    {
      "cell_type": "code",
      "source": [
        "import pandas as pd\n",
        "import numpy as np\n",
        "import matplotlib.pyplot as plt\n",
        "import tensorflow as tf\n",
        "from tensorflow.keras.layers import Flatten, Dense, Dropout, Activation, GlobalAveragePooling2D, Conv2D\n",
        "from tensorflow.keras.models import Sequential\n",
        "from tensorflow.keras.optimizers import Adam\n",
        "from tensorflow.keras.utils import to_categorical\n",
        "from sklearn.utils import shuffle\n",
        "import cv2\n",
        "import glob"
      ],
      "metadata": {
        "id": "nprTHFl-RfGa"
      },
      "execution_count": 9,
      "outputs": []
    },
    {
      "cell_type": "code",
      "source": [
        "# Set global variables\n",
        "global inputShape, size\n",
        "size = 100  # Define the input image size"
      ],
      "metadata": {
        "id": "Yug0fbWjRs0r"
      },
      "execution_count": 2,
      "outputs": []
    },
    {
      "cell_type": "code",
      "source": [
        "# Define the CNN model\n",
        "def kerasModel4():\n",
        "    model = Sequential()\n",
        "    model.add(Conv2D(16, (8, 8), strides=(4, 4), padding='valid', input_shape=(size, size, 1)))\n",
        "    model.add(Activation('relu'))\n",
        "    model.add(Conv2D(32, (5, 5), padding=\"same\"))\n",
        "    model.add(Activation('relu'))\n",
        "    model.add(GlobalAveragePooling2D())\n",
        "    model.add(Dense(512))\n",
        "    model.add(Dropout(0.1))\n",
        "    model.add(Activation('relu'))\n",
        "    model.add(Dense(2))\n",
        "    model.add(Activation('softmax'))\n",
        "    return model\n"
      ],
      "metadata": {
        "id": "LKBVgQ2LRxeC"
      },
      "execution_count": 10,
      "outputs": []
    },
    {
      "cell_type": "code",
      "source": [
        "# Paths to datasets (update these paths)\n",
        "from google.colab import drive\n",
        "drive.mount('/content/drive')  # Mount Google Drive if datasets are stored there\n"
      ],
      "metadata": {
        "colab": {
          "base_uri": "https://localhost:8080/"
        },
        "id": "0fc9FfrwR27g",
        "outputId": "a81a459c-765e-4c01-b391-0345b6539ab6"
      },
      "execution_count": 11,
      "outputs": [
        {
          "output_type": "stream",
          "name": "stdout",
          "text": [
            "Drive already mounted at /content/drive; to attempt to forcibly remount, call drive.mount(\"/content/drive\", force_remount=True).\n"
          ]
        }
      ]
    },
    {
      "cell_type": "code",
      "source": [
        "pothole_train_path = '/content/drive/MyDrive/Colab Notebooks/withpotholes/*.jpg'\n",
        "nonpothole_train_path = '/content/drive/MyDrive/Colab Notebooks/withoutpotholes/*.jpg'\n",
        "pothole_test_path = '/content/drive/MyDrive/Colab Notebooks/pot/*.jpg'\n",
        "nonpothole_test_path = '/content/drive/MyDrive/Colab Notebooks/plain/*.jpg'\n"
      ],
      "metadata": {
        "id": "MpbPoVTjU3zg"
      },
      "execution_count": 54,
      "outputs": []
    },
    {
      "cell_type": "markdown",
      "source": [
        "# New Section"
      ],
      "metadata": {
        "id": "85ac5sTRXT3c"
      }
    },
    {
      "cell_type": "code",
      "source": [
        "# Load Training Data: Potholes\n",
        "pothole_train_images = glob.glob(pothole_train_path)\n",
        "train1 = [cv2.imread(img, 0) for img in pothole_train_images]\n",
        "train1 = [cv2.resize(img, (size, size)) for img in train1]\n",
        "temp1 = np.asarray(train1)"
      ],
      "metadata": {
        "id": "8BN9-oBscINE"
      },
      "execution_count": 55,
      "outputs": []
    },
    {
      "cell_type": "code",
      "source": [
        "for img_path in nonpothole_train_images[:5]:  # Test with a few images\n",
        "    img = cv2.imread(img_path, 0)\n",
        "    if img is None:\n",
        "        print(f\"Failed to load image: {img_path}\")\n",
        "    else:\n",
        "        print(f\"Successfully loaded: {img_path}\")"
      ],
      "metadata": {
        "colab": {
          "base_uri": "https://localhost:8080/"
        },
        "id": "sAX4OWidYDwU",
        "outputId": "d7622145-b047-4014-9d70-e7faf0216529"
      },
      "execution_count": 58,
      "outputs": [
        {
          "output_type": "stream",
          "name": "stdout",
          "text": [
            "Successfully loaded: /content/drive/MyDrive/Colab Notebooks/withoutpotholes/1.Longeststraight0.jpg\n",
            "Successfully loaded: /content/drive/MyDrive/Colab Notebooks/withoutpotholes/10.island-road-trip-smooth-roads-road-trip-sunny-day-sky-having-cumulus-nimbus-clouds-along-empty-smooth-black-124987092.jpg\n",
            "Successfully loaded: /content/drive/MyDrive/Colab Notebooks/withoutpotholes/102.Two-new-phases-of-the-Dubai-Expo-2020--033_16ce7757dde_large.jpg\n",
            "Successfully loaded: /content/drive/MyDrive/Colab Notebooks/withoutpotholes/104.nhai-kmOB--621x414@LiveMint_1562329017788.jpg\n",
            "Successfully loaded: /content/drive/MyDrive/Colab Notebooks/withoutpotholes/100.5b23afff15e9f96fe6738e67.jpg\n"
          ]
        }
      ]
    },
    {
      "cell_type": "code",
      "source": [
        "# Load Training Data: Non-Potholes\n",
        "nonpothole_train_images = glob.glob(nonpothole_train_path)\n",
        "train2 = []\n",
        "\n",
        "for img_path in nonpothole_train_images:\n",
        "    img = cv2.imread(img_path, 0)\n",
        "    if img is not None:  # Check if the image is loaded correctly\n",
        "        resized_img = cv2.resize(img, (size, size))\n",
        "        train2.append(resized_img)\n",
        "    else:\n",
        "        print(f\"Skipping invalid image: {img_path}\")\n",
        "\n",
        "temp2 = np.asarray(train2)\n",
        "\n",
        "print(f\"Number of non-pothole images loaded: {len(train2)}\")\n",
        "print(f\"Shape of temp2: {temp2.shape}\")\n"
      ],
      "metadata": {
        "colab": {
          "base_uri": "https://localhost:8080/"
        },
        "id": "EtAfsTGfVZX8",
        "outputId": "b333aa72-957f-478c-d0e4-8dafd4d09d06"
      },
      "execution_count": 60,
      "outputs": [
        {
          "output_type": "stream",
          "name": "stdout",
          "text": [
            "Skipping invalid image: /content/drive/MyDrive/Colab Notebooks/withoutpotholes/340.imagef7973d0b-ad11-4bbc-bc81-5d606377259f.jpg\n",
            "Number of non-pothole images loaded: 336\n",
            "Shape of temp2: (336, 100, 100)\n"
          ]
        }
      ]
    },
    {
      "cell_type": "code",
      "source": [
        "# Load Testing Data: Potholes\n",
        "pothole_test_images = glob.glob(pothole_test_path)\n",
        "test1 = [cv2.imread(img, 0) for img in pothole_test_images]\n",
        "test1 = [cv2.resize(img, (size, size)) for img in test1]\n",
        "temp3 = np.asarray(test1)\n"
      ],
      "metadata": {
        "id": "x8hTW8BMVdOn"
      },
      "execution_count": 61,
      "outputs": []
    },
    {
      "cell_type": "code",
      "source": [
        "# Load Testing Data: Non-Potholes\n",
        "nonpothole_test_images = glob.glob(nonpothole_test_path)\n",
        "test2 = [cv2.imread(img, 0) for img in nonpothole_test_images]\n",
        "test2 = [cv2.resize(img, (size, size)) for img in test2]\n",
        "temp4 = np.asarray(test2)"
      ],
      "metadata": {
        "id": "-YrqjIsrVfDJ"
      },
      "execution_count": 62,
      "outputs": []
    },
    {
      "cell_type": "code",
      "source": [
        "# Combine and shuffle training data\n",
        "X_train = np.concatenate((temp1, temp2), axis=0)\n",
        "X_test = np.concatenate((temp3, temp4), axis=0)"
      ],
      "metadata": {
        "id": "lwfuj7jkVnMB"
      },
      "execution_count": 63,
      "outputs": []
    },
    {
      "cell_type": "code",
      "source": [
        "\n",
        "y_train1 = np.ones(len(temp1), dtype=int)\n",
        "y_train2 = np.zeros(len(temp2), dtype=int)\n",
        "y_test1 = np.ones(len(temp3), dtype=int)\n",
        "y_test2 = np.zeros(len(temp4), dtype=int)"
      ],
      "metadata": {
        "id": "FjDZvWx6VpOf"
      },
      "execution_count": 64,
      "outputs": []
    },
    {
      "cell_type": "code",
      "source": [
        "\n",
        "y_train = np.concatenate((y_train1, y_train2), axis=0)\n",
        "y_test = np.concatenate((y_test1, y_test2), axis=0)"
      ],
      "metadata": {
        "id": "xsdLb6vIVs_f"
      },
      "execution_count": 65,
      "outputs": []
    },
    {
      "cell_type": "code",
      "source": [
        "X_train, y_train = shuffle(X_train, y_train, random_state=42)\n",
        "X_test, y_test = shuffle(X_test, y_test, random_state=42)"
      ],
      "metadata": {
        "id": "TvuqNYxfVvrh"
      },
      "execution_count": 66,
      "outputs": []
    },
    {
      "cell_type": "code",
      "source": [
        "# Reshape and preprocess data\n",
        "X_train = X_train.reshape(X_train.shape[0], size, size, 1) / 255.0\n",
        "X_test = X_test.reshape(X_test.shape[0], size, size, 1) / 255.0"
      ],
      "metadata": {
        "id": "LeMtVU4kVypg"
      },
      "execution_count": 67,
      "outputs": []
    },
    {
      "cell_type": "code",
      "source": [
        "\n",
        "y_train = to_categorical(y_train, num_classes=2)\n",
        "y_test = to_categorical(y_test, num_classes=2)\n"
      ],
      "metadata": {
        "id": "bDpoCrBuV2sc"
      },
      "execution_count": 68,
      "outputs": []
    },
    {
      "cell_type": "code",
      "source": [
        "# Build and compile the model\n",
        "inputShape = (size, size, 1)\n",
        "model = kerasModel4()\n",
        "model.compile(optimizer=Adam(), loss='categorical_crossentropy', metrics=['accuracy'])\n"
      ],
      "metadata": {
        "id": "RRQAlUZ1V6SG"
      },
      "execution_count": 70,
      "outputs": []
    },
    {
      "cell_type": "code",
      "source": [
        "print(f\"Number of Pothole Training Images: {len(pothole_train_images)}\")\n",
        "print(f\"Number of Non-Pothole Training Images: {len(nonpothole_train_images)}\")\n",
        "print(f\"Number of Pothole Testing Images: {len(pothole_test_images)}\")\n",
        "print(f\"Number of Non-Pothole Testing Images: {len(nonpothole_test_images)}\")\n"
      ],
      "metadata": {
        "colab": {
          "base_uri": "https://localhost:8080/"
        },
        "id": "-1Q1BbKbWjWK",
        "outputId": "e94c2af3-3fad-47cd-eaa6-1b747efa5804"
      },
      "execution_count": 71,
      "outputs": [
        {
          "output_type": "stream",
          "name": "stdout",
          "text": [
            "Number of Pothole Training Images: 316\n",
            "Number of Non-Pothole Training Images: 337\n",
            "Number of Pothole Testing Images: 9\n",
            "Number of Non-Pothole Testing Images: 8\n"
          ]
        }
      ]
    },
    {
      "cell_type": "code",
      "source": [
        "print(\"Shape of X_train:\", X_train.shape)\n",
        "print(\"Shape of y_train:\", y_train.shape)\n"
      ],
      "metadata": {
        "colab": {
          "base_uri": "https://localhost:8080/"
        },
        "id": "CLRYMZ19WXRN",
        "outputId": "d8fe55e1-e07a-4eea-b97a-051ed3cc5157"
      },
      "execution_count": 72,
      "outputs": [
        {
          "output_type": "stream",
          "name": "stdout",
          "text": [
            "Shape of X_train: (652, 100, 100, 1)\n",
            "Shape of y_train: (652, 2)\n"
          ]
        }
      ]
    },
    {
      "cell_type": "code",
      "source": [
        "y_train1 = np.ones(len(temp1), dtype=int)\n",
        "y_train2 = np.zeros(len(temp2), dtype=int)\n",
        "y_test1 = np.ones(len(temp3), dtype=int)\n",
        "y_test2 = np.zeros(len(temp4), dtype=int)"
      ],
      "metadata": {
        "id": "1AliBsCod4Yt"
      },
      "execution_count": 73,
      "outputs": []
    },
    {
      "cell_type": "code",
      "source": [
        "y_train = np.concatenate((y_train1, y_train2), axis=0)\n",
        "y_test = np.concatenate((y_test1, y_test2), axis=0)\n"
      ],
      "metadata": {
        "id": "72OqIuXEerKz"
      },
      "execution_count": 74,
      "outputs": []
    },
    {
      "cell_type": "code",
      "source": [
        "X_train, y_train = shuffle(X_train, y_train, random_state=42)\n",
        "X_test, y_test = shuffle(X_test, y_test, random_state=42)"
      ],
      "metadata": {
        "id": "SXcvlCu7e0HM"
      },
      "execution_count": 75,
      "outputs": []
    },
    {
      "cell_type": "code",
      "source": [
        "X_train = X_train.reshape(X_train.shape[0], size, size, 1) / 255.0\n",
        "X_test = X_test.reshape(X_test.shape[0], size, size, 1) / 255.0"
      ],
      "metadata": {
        "id": "49JB5Dh9e95V"
      },
      "execution_count": 76,
      "outputs": []
    },
    {
      "cell_type": "code",
      "source": [
        "y_train = to_categorical(y_train, num_classes=2)\n",
        "y_test = to_categorical(y_test, num_classes=2)"
      ],
      "metadata": {
        "id": "OsFxdj2efCPC"
      },
      "execution_count": 77,
      "outputs": []
    },
    {
      "cell_type": "code",
      "source": [
        "inputShape = (size, size, 1)\n",
        "model = kerasModel4()\n",
        "model.compile(optimizer=Adam(), loss='categorical_crossentropy', metrics=['accuracy'])"
      ],
      "metadata": {
        "id": "DRVKWmWJfGhX"
      },
      "execution_count": 78,
      "outputs": []
    },
    {
      "cell_type": "code",
      "source": [
        "\n",
        "# Train the model\n",
        "history = model.fit(X_train, y_train, epochs=100, validation_split=0.1)"
      ],
      "metadata": {
        "colab": {
          "base_uri": "https://localhost:8080/"
        },
        "id": "M3PS8j2OfdAC",
        "outputId": "df962c5c-308d-415a-8e63-9d48f1d26b9e"
      },
      "execution_count": 82,
      "outputs": [
        {
          "output_type": "stream",
          "name": "stdout",
          "text": [
            "Epoch 1/100\n",
            "\u001b[1m19/19\u001b[0m \u001b[32m━━━━━━━━━━━━━━━━━━━━\u001b[0m\u001b[37m\u001b[0m \u001b[1m1s\u001b[0m 73ms/step - accuracy: 0.5478 - loss: 0.6912 - val_accuracy: 0.5303 - val_loss: 0.6916\n",
            "Epoch 2/100\n",
            "\u001b[1m19/19\u001b[0m \u001b[32m━━━━━━━━━━━━━━━━━━━━\u001b[0m\u001b[37m\u001b[0m \u001b[1m2s\u001b[0m 67ms/step - accuracy: 0.4941 - loss: 0.6942 - val_accuracy: 0.5303 - val_loss: 0.6920\n",
            "Epoch 3/100\n",
            "\u001b[1m19/19\u001b[0m \u001b[32m━━━━━━━━━━━━━━━━━━━━\u001b[0m\u001b[37m\u001b[0m \u001b[1m1s\u001b[0m 69ms/step - accuracy: 0.4947 - loss: 0.6937 - val_accuracy: 0.5303 - val_loss: 0.6920\n",
            "Epoch 4/100\n",
            "\u001b[1m19/19\u001b[0m \u001b[32m━━━━━━━━━━━━━━━━━━━━\u001b[0m\u001b[37m\u001b[0m \u001b[1m1s\u001b[0m 68ms/step - accuracy: 0.5158 - loss: 0.6927 - val_accuracy: 0.5303 - val_loss: 0.6919\n",
            "Epoch 5/100\n",
            "\u001b[1m19/19\u001b[0m \u001b[32m━━━━━━━━━━━━━━━━━━━━\u001b[0m\u001b[37m\u001b[0m \u001b[1m3s\u001b[0m 113ms/step - accuracy: 0.5049 - loss: 0.6933 - val_accuracy: 0.5303 - val_loss: 0.6919\n",
            "Epoch 6/100\n",
            "\u001b[1m19/19\u001b[0m \u001b[32m━━━━━━━━━━━━━━━━━━━━\u001b[0m\u001b[37m\u001b[0m \u001b[1m2s\u001b[0m 91ms/step - accuracy: 0.4922 - loss: 0.6940 - val_accuracy: 0.5303 - val_loss: 0.6919\n",
            "Epoch 7/100\n",
            "\u001b[1m19/19\u001b[0m \u001b[32m━━━━━━━━━━━━━━━━━━━━\u001b[0m\u001b[37m\u001b[0m \u001b[1m2s\u001b[0m 68ms/step - accuracy: 0.5232 - loss: 0.6924 - val_accuracy: 0.5303 - val_loss: 0.6917\n",
            "Epoch 8/100\n",
            "\u001b[1m19/19\u001b[0m \u001b[32m━━━━━━━━━━━━━━━━━━━━\u001b[0m\u001b[37m\u001b[0m \u001b[1m3s\u001b[0m 67ms/step - accuracy: 0.5270 - loss: 0.6920 - val_accuracy: 0.5303 - val_loss: 0.6915\n",
            "Epoch 9/100\n",
            "\u001b[1m19/19\u001b[0m \u001b[32m━━━━━━━━━━━━━━━━━━━━\u001b[0m\u001b[37m\u001b[0m \u001b[1m1s\u001b[0m 71ms/step - accuracy: 0.5173 - loss: 0.6927 - val_accuracy: 0.5303 - val_loss: 0.6916\n",
            "Epoch 10/100\n",
            "\u001b[1m19/19\u001b[0m \u001b[32m━━━━━━━━━━━━━━━━━━━━\u001b[0m\u001b[37m\u001b[0m \u001b[1m1s\u001b[0m 69ms/step - accuracy: 0.5295 - loss: 0.6918 - val_accuracy: 0.5303 - val_loss: 0.6916\n",
            "Epoch 11/100\n",
            "\u001b[1m19/19\u001b[0m \u001b[32m━━━━━━━━━━━━━━━━━━━━\u001b[0m\u001b[37m\u001b[0m \u001b[1m3s\u001b[0m 83ms/step - accuracy: 0.5278 - loss: 0.6920 - val_accuracy: 0.5303 - val_loss: 0.6918\n",
            "Epoch 12/100\n",
            "\u001b[1m19/19\u001b[0m \u001b[32m━━━━━━━━━━━━━━━━━━━━\u001b[0m\u001b[37m\u001b[0m \u001b[1m3s\u001b[0m 110ms/step - accuracy: 0.5234 - loss: 0.6923 - val_accuracy: 0.5303 - val_loss: 0.6919\n",
            "Epoch 13/100\n",
            "\u001b[1m19/19\u001b[0m \u001b[32m━━━━━━━━━━━━━━━━━━━━\u001b[0m\u001b[37m\u001b[0m \u001b[1m2s\u001b[0m 92ms/step - accuracy: 0.4909 - loss: 0.6940 - val_accuracy: 0.5303 - val_loss: 0.6919\n",
            "Epoch 14/100\n",
            "\u001b[1m19/19\u001b[0m \u001b[32m━━━━━━━━━━━━━━━━━━━━\u001b[0m\u001b[37m\u001b[0m \u001b[1m2s\u001b[0m 68ms/step - accuracy: 0.5001 - loss: 0.6937 - val_accuracy: 0.5303 - val_loss: 0.6919\n",
            "Epoch 15/100\n",
            "\u001b[1m19/19\u001b[0m \u001b[32m━━━━━━━━━━━━━━━━━━━━\u001b[0m\u001b[37m\u001b[0m \u001b[1m3s\u001b[0m 67ms/step - accuracy: 0.4968 - loss: 0.6936 - val_accuracy: 0.5303 - val_loss: 0.6919\n",
            "Epoch 16/100\n",
            "\u001b[1m19/19\u001b[0m \u001b[32m━━━━━━━━━━━━━━━━━━━━\u001b[0m\u001b[37m\u001b[0m \u001b[1m1s\u001b[0m 68ms/step - accuracy: 0.4923 - loss: 0.6937 - val_accuracy: 0.5303 - val_loss: 0.6919\n",
            "Epoch 17/100\n",
            "\u001b[1m19/19\u001b[0m \u001b[32m━━━━━━━━━━━━━━━━━━━━\u001b[0m\u001b[37m\u001b[0m \u001b[1m3s\u001b[0m 67ms/step - accuracy: 0.5199 - loss: 0.6926 - val_accuracy: 0.5303 - val_loss: 0.6917\n",
            "Epoch 18/100\n",
            "\u001b[1m19/19\u001b[0m \u001b[32m━━━━━━━━━━━━━━━━━━━━\u001b[0m\u001b[37m\u001b[0m \u001b[1m2s\u001b[0m 82ms/step - accuracy: 0.5189 - loss: 0.6925 - val_accuracy: 0.5303 - val_loss: 0.6917\n",
            "Epoch 19/100\n",
            "\u001b[1m19/19\u001b[0m \u001b[32m━━━━━━━━━━━━━━━━━━━━\u001b[0m\u001b[37m\u001b[0m \u001b[1m2s\u001b[0m 117ms/step - accuracy: 0.5169 - loss: 0.6924 - val_accuracy: 0.5303 - val_loss: 0.6916\n",
            "Epoch 20/100\n",
            "\u001b[1m19/19\u001b[0m \u001b[32m━━━━━━━━━━━━━━━━━━━━\u001b[0m\u001b[37m\u001b[0m \u001b[1m2s\u001b[0m 116ms/step - accuracy: 0.5256 - loss: 0.6921 - val_accuracy: 0.5303 - val_loss: 0.6918\n",
            "Epoch 21/100\n",
            "\u001b[1m19/19\u001b[0m \u001b[32m━━━━━━━━━━━━━━━━━━━━\u001b[0m\u001b[37m\u001b[0m \u001b[1m2s\u001b[0m 80ms/step - accuracy: 0.5059 - loss: 0.6934 - val_accuracy: 0.5303 - val_loss: 0.6920\n",
            "Epoch 22/100\n",
            "\u001b[1m19/19\u001b[0m \u001b[32m━━━━━━━━━━━━━━━━━━━━\u001b[0m\u001b[37m\u001b[0m \u001b[1m2s\u001b[0m 70ms/step - accuracy: 0.5389 - loss: 0.6915 - val_accuracy: 0.5303 - val_loss: 0.6920\n",
            "Epoch 23/100\n",
            "\u001b[1m19/19\u001b[0m \u001b[32m━━━━━━━━━━━━━━━━━━━━\u001b[0m\u001b[37m\u001b[0m \u001b[1m3s\u001b[0m 68ms/step - accuracy: 0.5337 - loss: 0.6917 - val_accuracy: 0.5303 - val_loss: 0.6919\n",
            "Epoch 24/100\n",
            "\u001b[1m19/19\u001b[0m \u001b[32m━━━━━━━━━━━━━━━━━━━━\u001b[0m\u001b[37m\u001b[0m \u001b[1m3s\u001b[0m 68ms/step - accuracy: 0.5263 - loss: 0.6923 - val_accuracy: 0.5303 - val_loss: 0.6922\n",
            "Epoch 25/100\n",
            "\u001b[1m19/19\u001b[0m \u001b[32m━━━━━━━━━━━━━━━━━━━━\u001b[0m\u001b[37m\u001b[0m \u001b[1m1s\u001b[0m 70ms/step - accuracy: 0.5040 - loss: 0.6933 - val_accuracy: 0.5303 - val_loss: 0.6922\n",
            "Epoch 26/100\n",
            "\u001b[1m19/19\u001b[0m \u001b[32m━━━━━━━━━━━━━━━━━━━━\u001b[0m\u001b[37m\u001b[0m \u001b[1m3s\u001b[0m 113ms/step - accuracy: 0.5067 - loss: 0.6931 - val_accuracy: 0.5303 - val_loss: 0.6921\n",
            "Epoch 27/100\n",
            "\u001b[1m19/19\u001b[0m \u001b[32m━━━━━━━━━━━━━━━━━━━━\u001b[0m\u001b[37m\u001b[0m \u001b[1m2s\u001b[0m 95ms/step - accuracy: 0.4993 - loss: 0.6934 - val_accuracy: 0.5303 - val_loss: 0.6921\n",
            "Epoch 28/100\n",
            "\u001b[1m19/19\u001b[0m \u001b[32m━━━━━━━━━━━━━━━━━━━━\u001b[0m\u001b[37m\u001b[0m \u001b[1m2s\u001b[0m 68ms/step - accuracy: 0.5376 - loss: 0.6920 - val_accuracy: 0.5303 - val_loss: 0.6919\n",
            "Epoch 29/100\n",
            "\u001b[1m19/19\u001b[0m \u001b[32m━━━━━━━━━━━━━━━━━━━━\u001b[0m\u001b[37m\u001b[0m \u001b[1m3s\u001b[0m 71ms/step - accuracy: 0.5200 - loss: 0.6927 - val_accuracy: 0.5303 - val_loss: 0.6919\n",
            "Epoch 30/100\n",
            "\u001b[1m19/19\u001b[0m \u001b[32m━━━━━━━━━━━━━━━━━━━━\u001b[0m\u001b[37m\u001b[0m \u001b[1m1s\u001b[0m 68ms/step - accuracy: 0.5111 - loss: 0.6930 - val_accuracy: 0.5303 - val_loss: 0.6918\n",
            "Epoch 31/100\n",
            "\u001b[1m19/19\u001b[0m \u001b[32m━━━━━━━━━━━━━━━━━━━━\u001b[0m\u001b[37m\u001b[0m \u001b[1m3s\u001b[0m 69ms/step - accuracy: 0.4950 - loss: 0.6939 - val_accuracy: 0.5303 - val_loss: 0.6918\n",
            "Epoch 32/100\n",
            "\u001b[1m19/19\u001b[0m \u001b[32m━━━━━━━━━━━━━━━━━━━━\u001b[0m\u001b[37m\u001b[0m \u001b[1m2s\u001b[0m 79ms/step - accuracy: 0.5222 - loss: 0.6922 - val_accuracy: 0.5303 - val_loss: 0.6917\n",
            "Epoch 33/100\n",
            "\u001b[1m19/19\u001b[0m \u001b[32m━━━━━━━━━━━━━━━━━━━━\u001b[0m\u001b[37m\u001b[0m \u001b[1m3s\u001b[0m 114ms/step - accuracy: 0.5179 - loss: 0.6926 - val_accuracy: 0.5303 - val_loss: 0.6918\n",
            "Epoch 34/100\n",
            "\u001b[1m19/19\u001b[0m \u001b[32m━━━━━━━━━━━━━━━━━━━━\u001b[0m\u001b[37m\u001b[0m \u001b[1m2s\u001b[0m 79ms/step - accuracy: 0.5112 - loss: 0.6930 - val_accuracy: 0.5303 - val_loss: 0.6918\n",
            "Epoch 35/100\n",
            "\u001b[1m19/19\u001b[0m \u001b[32m━━━━━━━━━━━━━━━━━━━━\u001b[0m\u001b[37m\u001b[0m \u001b[1m1s\u001b[0m 70ms/step - accuracy: 0.4816 - loss: 0.6948 - val_accuracy: 0.5303 - val_loss: 0.6918\n",
            "Epoch 36/100\n",
            "\u001b[1m19/19\u001b[0m \u001b[32m━━━━━━━━━━━━━━━━━━━━\u001b[0m\u001b[37m\u001b[0m \u001b[1m1s\u001b[0m 69ms/step - accuracy: 0.5191 - loss: 0.6925 - val_accuracy: 0.5303 - val_loss: 0.6917\n",
            "Epoch 37/100\n",
            "\u001b[1m19/19\u001b[0m \u001b[32m━━━━━━━━━━━━━━━━━━━━\u001b[0m\u001b[37m\u001b[0m \u001b[1m1s\u001b[0m 69ms/step - accuracy: 0.5278 - loss: 0.6919 - val_accuracy: 0.5303 - val_loss: 0.6917\n",
            "Epoch 38/100\n",
            "\u001b[1m19/19\u001b[0m \u001b[32m━━━━━━━━━━━━━━━━━━━━\u001b[0m\u001b[37m\u001b[0m \u001b[1m1s\u001b[0m 68ms/step - accuracy: 0.5311 - loss: 0.6915 - val_accuracy: 0.5303 - val_loss: 0.6917\n",
            "Epoch 39/100\n",
            "\u001b[1m19/19\u001b[0m \u001b[32m━━━━━━━━━━━━━━━━━━━━\u001b[0m\u001b[37m\u001b[0m \u001b[1m3s\u001b[0m 68ms/step - accuracy: 0.5091 - loss: 0.6933 - val_accuracy: 0.5303 - val_loss: 0.6918\n",
            "Epoch 40/100\n",
            "\u001b[1m19/19\u001b[0m \u001b[32m━━━━━━━━━━━━━━━━━━━━\u001b[0m\u001b[37m\u001b[0m \u001b[1m3s\u001b[0m 112ms/step - accuracy: 0.5311 - loss: 0.6918 - val_accuracy: 0.5303 - val_loss: 0.6917\n",
            "Epoch 41/100\n",
            "\u001b[1m19/19\u001b[0m \u001b[32m━━━━━━━━━━━━━━━━━━━━\u001b[0m\u001b[37m\u001b[0m \u001b[1m2s\u001b[0m 111ms/step - accuracy: 0.5125 - loss: 0.6930 - val_accuracy: 0.5303 - val_loss: 0.6919\n",
            "Epoch 42/100\n",
            "\u001b[1m19/19\u001b[0m \u001b[32m━━━━━━━━━━━━━━━━━━━━\u001b[0m\u001b[37m\u001b[0m \u001b[1m2s\u001b[0m 70ms/step - accuracy: 0.4909 - loss: 0.6940 - val_accuracy: 0.5303 - val_loss: 0.6921\n",
            "Epoch 43/100\n",
            "\u001b[1m19/19\u001b[0m \u001b[32m━━━━━━━━━━━━━━━━━━━━\u001b[0m\u001b[37m\u001b[0m \u001b[1m2s\u001b[0m 68ms/step - accuracy: 0.4816 - loss: 0.6943 - val_accuracy: 0.5303 - val_loss: 0.6921\n",
            "Epoch 44/100\n",
            "\u001b[1m19/19\u001b[0m \u001b[32m━━━━━━━━━━━━━━━━━━━━\u001b[0m\u001b[37m\u001b[0m \u001b[1m1s\u001b[0m 68ms/step - accuracy: 0.4984 - loss: 0.6934 - val_accuracy: 0.5303 - val_loss: 0.6918\n",
            "Epoch 45/100\n",
            "\u001b[1m19/19\u001b[0m \u001b[32m━━━━━━━━━━━━━━━━━━━━\u001b[0m\u001b[37m\u001b[0m \u001b[1m1s\u001b[0m 68ms/step - accuracy: 0.5196 - loss: 0.6925 - val_accuracy: 0.5303 - val_loss: 0.6917\n",
            "Epoch 46/100\n",
            "\u001b[1m19/19\u001b[0m \u001b[32m━━━━━━━━━━━━━━━━━━━━\u001b[0m\u001b[37m\u001b[0m \u001b[1m1s\u001b[0m 70ms/step - accuracy: 0.5466 - loss: 0.6910 - val_accuracy: 0.5303 - val_loss: 0.6917\n",
            "Epoch 47/100\n",
            "\u001b[1m19/19\u001b[0m \u001b[32m━━━━━━━━━━━━━━━━━━━━\u001b[0m\u001b[37m\u001b[0m \u001b[1m3s\u001b[0m 72ms/step - accuracy: 0.5038 - loss: 0.6937 - val_accuracy: 0.5303 - val_loss: 0.6919\n",
            "Epoch 48/100\n",
            "\u001b[1m19/19\u001b[0m \u001b[32m━━━━━━━━━━━━━━━━━━━━\u001b[0m\u001b[37m\u001b[0m \u001b[1m2s\u001b[0m 121ms/step - accuracy: 0.5067 - loss: 0.6930 - val_accuracy: 0.5303 - val_loss: 0.6920\n",
            "Epoch 49/100\n",
            "\u001b[1m19/19\u001b[0m \u001b[32m━━━━━━━━━━━━━━━━━━━━\u001b[0m\u001b[37m\u001b[0m \u001b[1m2s\u001b[0m 119ms/step - accuracy: 0.5179 - loss: 0.6926 - val_accuracy: 0.5303 - val_loss: 0.6919\n",
            "Epoch 50/100\n",
            "\u001b[1m19/19\u001b[0m \u001b[32m━━━━━━━━━━━━━━━━━━━━\u001b[0m\u001b[37m\u001b[0m \u001b[1m2s\u001b[0m 77ms/step - accuracy: 0.5198 - loss: 0.6924 - val_accuracy: 0.5303 - val_loss: 0.6918\n",
            "Epoch 51/100\n",
            "\u001b[1m19/19\u001b[0m \u001b[32m━━━━━━━━━━━━━━━━━━━━\u001b[0m\u001b[37m\u001b[0m \u001b[1m1s\u001b[0m 69ms/step - accuracy: 0.5265 - loss: 0.6921 - val_accuracy: 0.5303 - val_loss: 0.6917\n",
            "Epoch 52/100\n",
            "\u001b[1m19/19\u001b[0m \u001b[32m━━━━━━━━━━━━━━━━━━━━\u001b[0m\u001b[37m\u001b[0m \u001b[1m1s\u001b[0m 69ms/step - accuracy: 0.5007 - loss: 0.6936 - val_accuracy: 0.5303 - val_loss: 0.6920\n",
            "Epoch 53/100\n",
            "\u001b[1m19/19\u001b[0m \u001b[32m━━━━━━━━━━━━━━━━━━━━\u001b[0m\u001b[37m\u001b[0m \u001b[1m3s\u001b[0m 71ms/step - accuracy: 0.5265 - loss: 0.6923 - val_accuracy: 0.5303 - val_loss: 0.6918\n",
            "Epoch 54/100\n",
            "\u001b[1m19/19\u001b[0m \u001b[32m━━━━━━━━━━━━━━━━━━━━\u001b[0m\u001b[37m\u001b[0m \u001b[1m3s\u001b[0m 69ms/step - accuracy: 0.5400 - loss: 0.6912 - val_accuracy: 0.5303 - val_loss: 0.6919\n",
            "Epoch 55/100\n",
            "\u001b[1m19/19\u001b[0m \u001b[32m━━━━━━━━━━━━━━━━━━━━\u001b[0m\u001b[37m\u001b[0m \u001b[1m3s\u001b[0m 114ms/step - accuracy: 0.4949 - loss: 0.6939 - val_accuracy: 0.5303 - val_loss: 0.6919\n",
            "Epoch 56/100\n",
            "\u001b[1m19/19\u001b[0m \u001b[32m━━━━━━━━━━━━━━━━━━━━\u001b[0m\u001b[37m\u001b[0m \u001b[1m3s\u001b[0m 115ms/step - accuracy: 0.5398 - loss: 0.6913 - val_accuracy: 0.5303 - val_loss: 0.6916\n",
            "Epoch 57/100\n",
            "\u001b[1m19/19\u001b[0m \u001b[32m━━━━━━━━━━━━━━━━━━━━\u001b[0m\u001b[37m\u001b[0m \u001b[1m2s\u001b[0m 80ms/step - accuracy: 0.5100 - loss: 0.6932 - val_accuracy: 0.5303 - val_loss: 0.6917\n",
            "Epoch 58/100\n",
            "\u001b[1m19/19\u001b[0m \u001b[32m━━━━━━━━━━━━━━━━━━━━\u001b[0m\u001b[37m\u001b[0m \u001b[1m1s\u001b[0m 71ms/step - accuracy: 0.5063 - loss: 0.6933 - val_accuracy: 0.5303 - val_loss: 0.6918\n",
            "Epoch 59/100\n",
            "\u001b[1m19/19\u001b[0m \u001b[32m━━━━━━━━━━━━━━━━━━━━\u001b[0m\u001b[37m\u001b[0m \u001b[1m3s\u001b[0m 70ms/step - accuracy: 0.5263 - loss: 0.6920 - val_accuracy: 0.5303 - val_loss: 0.6917\n",
            "Epoch 60/100\n",
            "\u001b[1m19/19\u001b[0m \u001b[32m━━━━━━━━━━━━━━━━━━━━\u001b[0m\u001b[37m\u001b[0m \u001b[1m1s\u001b[0m 69ms/step - accuracy: 0.5022 - loss: 0.6937 - val_accuracy: 0.5303 - val_loss: 0.6919\n",
            "Epoch 61/100\n",
            "\u001b[1m19/19\u001b[0m \u001b[32m━━━━━━━━━━━━━━━━━━━━\u001b[0m\u001b[37m\u001b[0m \u001b[1m3s\u001b[0m 69ms/step - accuracy: 0.5422 - loss: 0.6912 - val_accuracy: 0.5303 - val_loss: 0.6920\n",
            "Epoch 62/100\n",
            "\u001b[1m19/19\u001b[0m \u001b[32m━━━━━━━━━━━━━━━━━━━━\u001b[0m\u001b[37m\u001b[0m \u001b[1m1s\u001b[0m 71ms/step - accuracy: 0.4998 - loss: 0.6936 - val_accuracy: 0.5303 - val_loss: 0.6921\n",
            "Epoch 63/100\n",
            "\u001b[1m19/19\u001b[0m \u001b[32m━━━━━━━━━━━━━━━━━━━━\u001b[0m\u001b[37m\u001b[0m \u001b[1m3s\u001b[0m 109ms/step - accuracy: 0.4846 - loss: 0.6942 - val_accuracy: 0.5303 - val_loss: 0.6919\n",
            "Epoch 64/100\n",
            "\u001b[1m19/19\u001b[0m \u001b[32m━━━━━━━━━━━━━━━━━━━━\u001b[0m\u001b[37m\u001b[0m \u001b[1m2s\u001b[0m 95ms/step - accuracy: 0.5270 - loss: 0.6923 - val_accuracy: 0.5303 - val_loss: 0.6918\n",
            "Epoch 65/100\n",
            "\u001b[1m19/19\u001b[0m \u001b[32m━━━━━━━━━━━━━━━━━━━━\u001b[0m\u001b[37m\u001b[0m \u001b[1m2s\u001b[0m 69ms/step - accuracy: 0.5247 - loss: 0.6921 - val_accuracy: 0.5303 - val_loss: 0.6917\n",
            "Epoch 66/100\n",
            "\u001b[1m19/19\u001b[0m \u001b[32m━━━━━━━━━━━━━━━━━━━━\u001b[0m\u001b[37m\u001b[0m \u001b[1m1s\u001b[0m 68ms/step - accuracy: 0.4975 - loss: 0.6938 - val_accuracy: 0.5303 - val_loss: 0.6918\n",
            "Epoch 67/100\n",
            "\u001b[1m19/19\u001b[0m \u001b[32m━━━━━━━━━━━━━━━━━━━━\u001b[0m\u001b[37m\u001b[0m \u001b[1m1s\u001b[0m 71ms/step - accuracy: 0.5204 - loss: 0.6924 - val_accuracy: 0.5303 - val_loss: 0.6918\n",
            "Epoch 68/100\n",
            "\u001b[1m19/19\u001b[0m \u001b[32m━━━━━━━━━━━━━━━━━━━━\u001b[0m\u001b[37m\u001b[0m \u001b[1m1s\u001b[0m 69ms/step - accuracy: 0.5119 - loss: 0.6928 - val_accuracy: 0.5303 - val_loss: 0.6917\n",
            "Epoch 69/100\n",
            "\u001b[1m19/19\u001b[0m \u001b[32m━━━━━━━━━━━━━━━━━━━━\u001b[0m\u001b[37m\u001b[0m \u001b[1m3s\u001b[0m 69ms/step - accuracy: 0.5380 - loss: 0.6913 - val_accuracy: 0.5303 - val_loss: 0.6918\n",
            "Epoch 70/100\n",
            "\u001b[1m19/19\u001b[0m \u001b[32m━━━━━━━━━━━━━━━━━━━━\u001b[0m\u001b[37m\u001b[0m \u001b[1m4s\u001b[0m 122ms/step - accuracy: 0.5514 - loss: 0.6907 - val_accuracy: 0.5303 - val_loss: 0.6919\n",
            "Epoch 71/100\n",
            "\u001b[1m19/19\u001b[0m \u001b[32m━━━━━━━━━━━━━━━━━━━━\u001b[0m\u001b[37m\u001b[0m \u001b[1m3s\u001b[0m 122ms/step - accuracy: 0.4909 - loss: 0.6940 - val_accuracy: 0.5303 - val_loss: 0.6919\n",
            "Epoch 72/100\n",
            "\u001b[1m19/19\u001b[0m \u001b[32m━━━━━━━━━━━━━━━━━━━━\u001b[0m\u001b[37m\u001b[0m \u001b[1m1s\u001b[0m 69ms/step - accuracy: 0.5108 - loss: 0.6929 - val_accuracy: 0.5303 - val_loss: 0.6919\n",
            "Epoch 73/100\n",
            "\u001b[1m19/19\u001b[0m \u001b[32m━━━━━━━━━━━━━━━━━━━━\u001b[0m\u001b[37m\u001b[0m \u001b[1m1s\u001b[0m 69ms/step - accuracy: 0.5298 - loss: 0.6918 - val_accuracy: 0.5303 - val_loss: 0.6919\n",
            "Epoch 74/100\n",
            "\u001b[1m19/19\u001b[0m \u001b[32m━━━━━━━━━━━━━━━━━━━━\u001b[0m\u001b[37m\u001b[0m \u001b[1m1s\u001b[0m 69ms/step - accuracy: 0.5132 - loss: 0.6928 - val_accuracy: 0.5303 - val_loss: 0.6919\n",
            "Epoch 75/100\n",
            "\u001b[1m19/19\u001b[0m \u001b[32m━━━━━━━━━━━━━━━━━━━━\u001b[0m\u001b[37m\u001b[0m \u001b[1m1s\u001b[0m 68ms/step - accuracy: 0.5121 - loss: 0.6931 - val_accuracy: 0.5303 - val_loss: 0.6919\n",
            "Epoch 76/100\n",
            "\u001b[1m19/19\u001b[0m \u001b[32m━━━━━━━━━━━━━━━━━━━━\u001b[0m\u001b[37m\u001b[0m \u001b[1m1s\u001b[0m 70ms/step - accuracy: 0.5318 - loss: 0.6920 - val_accuracy: 0.5303 - val_loss: 0.6917\n",
            "Epoch 77/100\n",
            "\u001b[1m19/19\u001b[0m \u001b[32m━━━━━━━━━━━━━━━━━━━━\u001b[0m\u001b[37m\u001b[0m \u001b[1m3s\u001b[0m 69ms/step - accuracy: 0.4972 - loss: 0.6937 - val_accuracy: 0.5303 - val_loss: 0.6918\n",
            "Epoch 78/100\n",
            "\u001b[1m19/19\u001b[0m \u001b[32m━━━━━━━━━━━━━━━━━━━━\u001b[0m\u001b[37m\u001b[0m \u001b[1m2s\u001b[0m 93ms/step - accuracy: 0.5370 - loss: 0.6915 - val_accuracy: 0.5303 - val_loss: 0.6918\n",
            "Epoch 79/100\n",
            "\u001b[1m19/19\u001b[0m \u001b[32m━━━━━━━━━━━━━━━━━━━━\u001b[0m\u001b[37m\u001b[0m \u001b[1m3s\u001b[0m 117ms/step - accuracy: 0.5188 - loss: 0.6924 - val_accuracy: 0.5303 - val_loss: 0.6918\n",
            "Epoch 80/100\n",
            "\u001b[1m19/19\u001b[0m \u001b[32m━━━━━━━━━━━━━━━━━━━━\u001b[0m\u001b[37m\u001b[0m \u001b[1m2s\u001b[0m 70ms/step - accuracy: 0.4887 - loss: 0.6942 - val_accuracy: 0.5303 - val_loss: 0.6919\n",
            "Epoch 81/100\n",
            "\u001b[1m19/19\u001b[0m \u001b[32m━━━━━━━━━━━━━━━━━━━━\u001b[0m\u001b[37m\u001b[0m \u001b[1m1s\u001b[0m 70ms/step - accuracy: 0.5259 - loss: 0.6920 - val_accuracy: 0.5303 - val_loss: 0.6918\n",
            "Epoch 82/100\n",
            "\u001b[1m19/19\u001b[0m \u001b[32m━━━━━━━━━━━━━━━━━━━━\u001b[0m\u001b[37m\u001b[0m \u001b[1m1s\u001b[0m 70ms/step - accuracy: 0.4915 - loss: 0.6941 - val_accuracy: 0.5303 - val_loss: 0.6919\n",
            "Epoch 83/100\n",
            "\u001b[1m19/19\u001b[0m \u001b[32m━━━━━━━━━━━━━━━━━━━━\u001b[0m\u001b[37m\u001b[0m \u001b[1m3s\u001b[0m 70ms/step - accuracy: 0.5022 - loss: 0.6931 - val_accuracy: 0.5303 - val_loss: 0.6920\n",
            "Epoch 84/100\n",
            "\u001b[1m19/19\u001b[0m \u001b[32m━━━━━━━━━━━━━━━━━━━━\u001b[0m\u001b[37m\u001b[0m \u001b[1m3s\u001b[0m 69ms/step - accuracy: 0.5170 - loss: 0.6925 - val_accuracy: 0.5303 - val_loss: 0.6919\n",
            "Epoch 85/100\n",
            "\u001b[1m19/19\u001b[0m \u001b[32m━━━━━━━━━━━━━━━━━━━━\u001b[0m\u001b[37m\u001b[0m \u001b[1m2s\u001b[0m 110ms/step - accuracy: 0.5245 - loss: 0.6922 - val_accuracy: 0.5303 - val_loss: 0.6917\n",
            "Epoch 86/100\n",
            "\u001b[1m19/19\u001b[0m \u001b[32m━━━━━━━━━━━━━━━━━━━━\u001b[0m\u001b[37m\u001b[0m \u001b[1m3s\u001b[0m 113ms/step - accuracy: 0.5270 - loss: 0.6919 - val_accuracy: 0.5303 - val_loss: 0.6918\n",
            "Epoch 87/100\n",
            "\u001b[1m19/19\u001b[0m \u001b[32m━━━━━━━━━━━━━━━━━━━━\u001b[0m\u001b[37m\u001b[0m \u001b[1m2s\u001b[0m 114ms/step - accuracy: 0.5207 - loss: 0.6924 - val_accuracy: 0.5303 - val_loss: 0.6919\n",
            "Epoch 88/100\n",
            "\u001b[1m19/19\u001b[0m \u001b[32m━━━━━━━━━━━━━━━━━━━━\u001b[0m\u001b[37m\u001b[0m \u001b[1m1s\u001b[0m 69ms/step - accuracy: 0.4860 - loss: 0.6940 - val_accuracy: 0.5303 - val_loss: 0.6919\n",
            "Epoch 89/100\n",
            "\u001b[1m19/19\u001b[0m \u001b[32m━━━━━━━━━━━━━━━━━━━━\u001b[0m\u001b[37m\u001b[0m \u001b[1m3s\u001b[0m 69ms/step - accuracy: 0.5115 - loss: 0.6928 - val_accuracy: 0.5303 - val_loss: 0.6918\n",
            "Epoch 90/100\n",
            "\u001b[1m19/19\u001b[0m \u001b[32m━━━━━━━━━━━━━━━━━━━━\u001b[0m\u001b[37m\u001b[0m \u001b[1m3s\u001b[0m 69ms/step - accuracy: 0.5222 - loss: 0.6921 - val_accuracy: 0.5303 - val_loss: 0.6919\n",
            "Epoch 91/100\n",
            "\u001b[1m19/19\u001b[0m \u001b[32m━━━━━━━━━━━━━━━━━━━━\u001b[0m\u001b[37m\u001b[0m \u001b[1m1s\u001b[0m 71ms/step - accuracy: 0.5235 - loss: 0.6922 - val_accuracy: 0.5303 - val_loss: 0.6919\n",
            "Epoch 92/100\n",
            "\u001b[1m19/19\u001b[0m \u001b[32m━━━━━━━━━━━━━━━━━━━━\u001b[0m\u001b[37m\u001b[0m \u001b[1m3s\u001b[0m 84ms/step - accuracy: 0.5242 - loss: 0.6920 - val_accuracy: 0.5303 - val_loss: 0.6918\n",
            "Epoch 93/100\n",
            "\u001b[1m19/19\u001b[0m \u001b[32m━━━━━━━━━━━━━━━━━━━━\u001b[0m\u001b[37m\u001b[0m \u001b[1m2s\u001b[0m 115ms/step - accuracy: 0.4983 - loss: 0.6934 - val_accuracy: 0.5303 - val_loss: 0.6920\n",
            "Epoch 94/100\n",
            "\u001b[1m19/19\u001b[0m \u001b[32m━━━━━━━━━━━━━━━━━━━━\u001b[0m\u001b[37m\u001b[0m \u001b[1m2s\u001b[0m 113ms/step - accuracy: 0.5288 - loss: 0.6921 - val_accuracy: 0.5303 - val_loss: 0.6918\n",
            "Epoch 95/100\n",
            "\u001b[1m19/19\u001b[0m \u001b[32m━━━━━━━━━━━━━━━━━━━━\u001b[0m\u001b[37m\u001b[0m \u001b[1m2s\u001b[0m 93ms/step - accuracy: 0.5199 - loss: 0.6924 - val_accuracy: 0.5303 - val_loss: 0.6918\n",
            "Epoch 96/100\n",
            "\u001b[1m19/19\u001b[0m \u001b[32m━━━━━━━━━━━━━━━━━━━━\u001b[0m\u001b[37m\u001b[0m \u001b[1m1s\u001b[0m 69ms/step - accuracy: 0.5053 - loss: 0.6933 - val_accuracy: 0.5303 - val_loss: 0.6918\n",
            "Epoch 97/100\n",
            "\u001b[1m19/19\u001b[0m \u001b[32m━━━━━━━━━━━━━━━━━━━━\u001b[0m\u001b[37m\u001b[0m \u001b[1m1s\u001b[0m 70ms/step - accuracy: 0.4932 - loss: 0.6943 - val_accuracy: 0.5303 - val_loss: 0.6918\n",
            "Epoch 98/100\n",
            "\u001b[1m19/19\u001b[0m \u001b[32m━━━━━━━━━━━━━━━━━━━━\u001b[0m\u001b[37m\u001b[0m \u001b[1m3s\u001b[0m 68ms/step - accuracy: 0.5157 - loss: 0.6926 - val_accuracy: 0.5303 - val_loss: 0.6918\n",
            "Epoch 99/100\n",
            "\u001b[1m19/19\u001b[0m \u001b[32m━━━━━━━━━━━━━━━━━━━━\u001b[0m\u001b[37m\u001b[0m \u001b[1m3s\u001b[0m 70ms/step - accuracy: 0.5262 - loss: 0.6923 - val_accuracy: 0.5303 - val_loss: 0.6918\n",
            "Epoch 100/100\n",
            "\u001b[1m19/19\u001b[0m \u001b[32m━━━━━━━━━━━━━━━━━━━━\u001b[0m\u001b[37m\u001b[0m \u001b[1m3s\u001b[0m 108ms/step - accuracy: 0.5205 - loss: 0.6926 - val_accuracy: 0.5303 - val_loss: 0.6918\n"
          ]
        }
      ]
    },
    {
      "cell_type": "code",
      "source": [
        "\n",
        "# Evaluate the model\n",
        "metrics = model.evaluate(X_test, y_test)\n",
        "for metric_i in range(len(model.metrics_names)):\n",
        "    metric_name = model.metrics_names[metric_i]\n",
        "    metric_value = metrics[metric_i]\n",
        "    print(f'{metric_name}: {metric_value}')"
      ],
      "metadata": {
        "colab": {
          "base_uri": "https://localhost:8080/"
        },
        "id": "Qn6_Up2PbAfN",
        "outputId": "4080fa2e-0ee6-4ae7-efd5-4c729d25f5e6"
      },
      "execution_count": 80,
      "outputs": [
        {
          "output_type": "stream",
          "name": "stdout",
          "text": [
            "\u001b[1m1/1\u001b[0m \u001b[32m━━━━━━━━━━━━━━━━━━━━\u001b[0m\u001b[37m\u001b[0m \u001b[1m0s\u001b[0m 35ms/step - accuracy: 0.4706 - loss: 0.6951\n",
            "loss: 0.6950876116752625\n",
            "compile_metrics: 0.47058823704719543\n"
          ]
        }
      ]
    },
    {
      "cell_type": "code",
      "source": [
        "# Save the model\n",
        "model.save('pothole_model.h5')\n",
        "print(\"Model saved as 'pothole_model.h5'\")"
      ],
      "metadata": {
        "colab": {
          "base_uri": "https://localhost:8080/"
        },
        "id": "qqQNlrOgbCuB",
        "outputId": "e58b2cb9-b16e-421a-ed4e-c4afceabb33e"
      },
      "execution_count": 81,
      "outputs": [
        {
          "output_type": "stream",
          "name": "stderr",
          "text": [
            "WARNING:absl:You are saving your model as an HDF5 file via `model.save()` or `keras.saving.save_model(model)`. This file format is considered legacy. We recommend using instead the native Keras format, e.g. `model.save('my_model.keras')` or `keras.saving.save_model(model, 'my_model.keras')`. \n"
          ]
        },
        {
          "output_type": "stream",
          "name": "stdout",
          "text": [
            "Model saved as 'pothole_model.h5'\n"
          ]
        }
      ]
    },
    {
      "cell_type": "code",
      "source": [
        "print(\"Training class distribution:\")\n",
        "print(np.sum(y_train, axis=0))  # Sum per class\n",
        "\n",
        "print(\"Test class distribution:\")\n",
        "print(np.sum(y_test, axis=0))\n"
      ],
      "metadata": {
        "colab": {
          "base_uri": "https://localhost:8080/"
        },
        "id": "0folbsI6jyp5",
        "outputId": "0aa0c9b2-06eb-4bf0-8cdb-cd4612e82d2e"
      },
      "execution_count": 83,
      "outputs": [
        {
          "output_type": "stream",
          "name": "stdout",
          "text": [
            "Training class distribution:\n",
            "[336. 316.]\n",
            "Test class distribution:\n",
            "[8. 9.]\n"
          ]
        }
      ]
    },
    {
      "cell_type": "code",
      "source": [
        "import pickle\n",
        "\n",
        "# Save the model file (.h5) using pickle\n",
        "with open('pothole_model.pkl', 'wb') as f:\n",
        "    pickle.dump('pothole_model.h5', f)\n",
        "\n",
        "print(\"Model saved as 'pothole_model.pkl'\")\n"
      ],
      "metadata": {
        "colab": {
          "base_uri": "https://localhost:8080/"
        },
        "id": "ciilKXMkoeCQ",
        "outputId": "2d5b31d0-90a8-4545-9c89-8bbb54ca0f8d"
      },
      "execution_count": 84,
      "outputs": [
        {
          "output_type": "stream",
          "name": "stdout",
          "text": [
            "Model saved as 'pothole_model.pkl'\n"
          ]
        }
      ]
    },
    {
      "cell_type": "code",
      "source": [
        "from google.colab import files\n",
        "\n",
        "# Download the pickle file to local machine\n",
        "files.download('pothole_model.pkl')\n"
      ],
      "metadata": {
        "colab": {
          "base_uri": "https://localhost:8080/",
          "height": 17
        },
        "id": "Dx9-Z9B1ohe7",
        "outputId": "dff36b39-7156-4e6a-f39f-f108bde3da64"
      },
      "execution_count": 85,
      "outputs": [
        {
          "output_type": "display_data",
          "data": {
            "text/plain": [
              "<IPython.core.display.Javascript object>"
            ],
            "application/javascript": [
              "\n",
              "    async function download(id, filename, size) {\n",
              "      if (!google.colab.kernel.accessAllowed) {\n",
              "        return;\n",
              "      }\n",
              "      const div = document.createElement('div');\n",
              "      const label = document.createElement('label');\n",
              "      label.textContent = `Downloading \"${filename}\": `;\n",
              "      div.appendChild(label);\n",
              "      const progress = document.createElement('progress');\n",
              "      progress.max = size;\n",
              "      div.appendChild(progress);\n",
              "      document.body.appendChild(div);\n",
              "\n",
              "      const buffers = [];\n",
              "      let downloaded = 0;\n",
              "\n",
              "      const channel = await google.colab.kernel.comms.open(id);\n",
              "      // Send a message to notify the kernel that we're ready.\n",
              "      channel.send({})\n",
              "\n",
              "      for await (const message of channel.messages) {\n",
              "        // Send a message to notify the kernel that we're ready.\n",
              "        channel.send({})\n",
              "        if (message.buffers) {\n",
              "          for (const buffer of message.buffers) {\n",
              "            buffers.push(buffer);\n",
              "            downloaded += buffer.byteLength;\n",
              "            progress.value = downloaded;\n",
              "          }\n",
              "        }\n",
              "      }\n",
              "      const blob = new Blob(buffers, {type: 'application/binary'});\n",
              "      const a = document.createElement('a');\n",
              "      a.href = window.URL.createObjectURL(blob);\n",
              "      a.download = filename;\n",
              "      div.appendChild(a);\n",
              "      a.click();\n",
              "      div.remove();\n",
              "    }\n",
              "  "
            ]
          },
          "metadata": {}
        },
        {
          "output_type": "display_data",
          "data": {
            "text/plain": [
              "<IPython.core.display.Javascript object>"
            ],
            "application/javascript": [
              "download(\"download_bffbbf43-2c05-4950-a8b0-98e06ecf251a\", \"pothole_model.pkl\", 31)"
            ]
          },
          "metadata": {}
        }
      ]
    }
  ]
}